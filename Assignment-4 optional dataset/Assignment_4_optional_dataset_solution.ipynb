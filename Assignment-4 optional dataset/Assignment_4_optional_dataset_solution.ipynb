{
 "cells": [
  {
   "cell_type": "markdown",
   "metadata": {},
   "source": [
    "# Analysis of [Spotify reviews](https://www.kaggle.com/datasets/mfaaris/spotify-app-reviews-2022)"
   ]
  },
  {
   "cell_type": "code",
   "execution_count": 38,
   "metadata": {},
   "outputs": [
    {
     "data": {
      "text/html": [
       "<div>\n",
       "<style scoped>\n",
       "    .dataframe tbody tr th:only-of-type {\n",
       "        vertical-align: middle;\n",
       "    }\n",
       "\n",
       "    .dataframe tbody tr th {\n",
       "        vertical-align: top;\n",
       "    }\n",
       "\n",
       "    .dataframe thead th {\n",
       "        text-align: right;\n",
       "    }\n",
       "</style>\n",
       "<table border=\"1\" class=\"dataframe\">\n",
       "  <thead>\n",
       "    <tr style=\"text-align: right;\">\n",
       "      <th></th>\n",
       "      <th>Time_submitted</th>\n",
       "      <th>Review</th>\n",
       "      <th>Rating</th>\n",
       "      <th>Total_thumbsup</th>\n",
       "      <th>Reply</th>\n",
       "    </tr>\n",
       "  </thead>\n",
       "  <tbody>\n",
       "    <tr>\n",
       "      <th>0</th>\n",
       "      <td>2022-07-09 15:00:00</td>\n",
       "      <td>Great music service, the audio is high quality...</td>\n",
       "      <td>5</td>\n",
       "      <td>2</td>\n",
       "      <td>NaN</td>\n",
       "    </tr>\n",
       "    <tr>\n",
       "      <th>1</th>\n",
       "      <td>2022-07-09 14:21:22</td>\n",
       "      <td>Please ignore previous negative rating. This a...</td>\n",
       "      <td>5</td>\n",
       "      <td>1</td>\n",
       "      <td>NaN</td>\n",
       "    </tr>\n",
       "    <tr>\n",
       "      <th>2</th>\n",
       "      <td>2022-07-09 13:27:32</td>\n",
       "      <td>This pop-up \"Get the best Spotify experience o...</td>\n",
       "      <td>4</td>\n",
       "      <td>0</td>\n",
       "      <td>NaN</td>\n",
       "    </tr>\n",
       "    <tr>\n",
       "      <th>3</th>\n",
       "      <td>2022-07-09 13:26:45</td>\n",
       "      <td>Really buggy and terrible to use as of recently</td>\n",
       "      <td>1</td>\n",
       "      <td>1</td>\n",
       "      <td>NaN</td>\n",
       "    </tr>\n",
       "    <tr>\n",
       "      <th>4</th>\n",
       "      <td>2022-07-09 13:20:49</td>\n",
       "      <td>Dear Spotify why do I get songs that I didn't ...</td>\n",
       "      <td>1</td>\n",
       "      <td>1</td>\n",
       "      <td>NaN</td>\n",
       "    </tr>\n",
       "  </tbody>\n",
       "</table>\n",
       "</div>"
      ],
      "text/plain": [
       "        Time_submitted                                             Review  \\\n",
       "0  2022-07-09 15:00:00  Great music service, the audio is high quality...   \n",
       "1  2022-07-09 14:21:22  Please ignore previous negative rating. This a...   \n",
       "2  2022-07-09 13:27:32  This pop-up \"Get the best Spotify experience o...   \n",
       "3  2022-07-09 13:26:45    Really buggy and terrible to use as of recently   \n",
       "4  2022-07-09 13:20:49  Dear Spotify why do I get songs that I didn't ...   \n",
       "\n",
       "   Rating  Total_thumbsup Reply  \n",
       "0       5               2   NaN  \n",
       "1       5               1   NaN  \n",
       "2       4               0   NaN  \n",
       "3       1               1   NaN  \n",
       "4       1               1   NaN  "
      ]
     },
     "execution_count": 38,
     "metadata": {},
     "output_type": "execute_result"
    }
   ],
   "source": [
    "import pandas as pd\n",
    "import numpy as np\n",
    "import matplotlib.pyplot as plt\n",
    "import string\n",
    "from sklearn.model_selection import train_test_split\n",
    "from sklearn.metrics import confusion_matrix\n",
    "from sklearn.linear_model import LogisticRegression\n",
    "from sklearn.feature_extraction.text import CountVectorizer\n",
    "from sklearn.feature_extraction.text import TfidfVectorizer\n",
    "from sklearn import svm\n",
    "from sklearn.neighbors import KNeighborsClassifier\n",
    "\n",
    "class colors:\n",
    "    POSITIVE = '\\033[92m'\n",
    "    NEGATIVE = '\\033[91m'\n",
    "    RESET = '\\033[0m'\n",
    "\n",
    "def remove_punctuation(text):\n",
    "    translator = str.maketrans('', '', string.punctuation)\n",
    "    return text.translate(translator)\n",
    "\n",
    "iterations = 2000\n",
    "\n",
    "spotify_df = pd.read_csv('spotify_reviews.csv')\n",
    "spotify_df.head()"
   ]
  },
  {
   "cell_type": "code",
   "execution_count": 39,
   "metadata": {},
   "outputs": [
    {
     "name": "stdout",
     "output_type": "stream",
     "text": [
      "Dataset size: (61594, 2)\n"
     ]
    },
    {
     "data": {
      "text/html": [
       "<div>\n",
       "<style scoped>\n",
       "    .dataframe tbody tr th:only-of-type {\n",
       "        vertical-align: middle;\n",
       "    }\n",
       "\n",
       "    .dataframe tbody tr th {\n",
       "        vertical-align: top;\n",
       "    }\n",
       "\n",
       "    .dataframe thead th {\n",
       "        text-align: right;\n",
       "    }\n",
       "</style>\n",
       "<table border=\"1\" class=\"dataframe\">\n",
       "  <thead>\n",
       "    <tr style=\"text-align: right;\">\n",
       "      <th></th>\n",
       "      <th>Review</th>\n",
       "      <th>Rating</th>\n",
       "    </tr>\n",
       "  </thead>\n",
       "  <tbody>\n",
       "    <tr>\n",
       "      <th>0</th>\n",
       "      <td>Great music service, the audio is high quality...</td>\n",
       "      <td>5</td>\n",
       "    </tr>\n",
       "    <tr>\n",
       "      <th>1</th>\n",
       "      <td>Please ignore previous negative rating. This a...</td>\n",
       "      <td>5</td>\n",
       "    </tr>\n",
       "    <tr>\n",
       "      <th>2</th>\n",
       "      <td>This pop-up \"Get the best Spotify experience o...</td>\n",
       "      <td>4</td>\n",
       "    </tr>\n",
       "    <tr>\n",
       "      <th>3</th>\n",
       "      <td>Really buggy and terrible to use as of recently</td>\n",
       "      <td>1</td>\n",
       "    </tr>\n",
       "    <tr>\n",
       "      <th>4</th>\n",
       "      <td>Dear Spotify why do I get songs that I didn't ...</td>\n",
       "      <td>1</td>\n",
       "    </tr>\n",
       "  </tbody>\n",
       "</table>\n",
       "</div>"
      ],
      "text/plain": [
       "                                              Review  Rating\n",
       "0  Great music service, the audio is high quality...       5\n",
       "1  Please ignore previous negative rating. This a...       5\n",
       "2  This pop-up \"Get the best Spotify experience o...       4\n",
       "3    Really buggy and terrible to use as of recently       1\n",
       "4  Dear Spotify why do I get songs that I didn't ...       1"
      ]
     },
     "execution_count": 39,
     "metadata": {},
     "output_type": "execute_result"
    }
   ],
   "source": [
    "dropped = ['Time_submitted', 'Total_thumbsup', 'Reply']\n",
    "spotify_df = spotify_df.drop(columns=dropped)\n",
    "print(f'Dataset size: {spotify_df.shape}')\n",
    "spotify_df.head()"
   ]
  },
  {
   "cell_type": "code",
   "execution_count": 40,
   "metadata": {},
   "outputs": [
    {
     "data": {
      "image/png": "[encoded data removed]",
      "text/plain": [
       "<Figure size 640x480 with 1 Axes>"
      ]
     },
     "metadata": {},
     "output_type": "display_data"
    }
   ],
   "source": [
    "spotify_df.Rating.value_counts().sort_index().plot(kind='bar', rot=0, xlabel='Rating', ylabel='count')\n",
    "plt.show()"
   ]
  },
  {
   "cell_type": "markdown",
   "metadata": {},
   "source": [
    "> NOTE: We can see that there are mostly fully positive or fully negative Ratings."
   ]
  },
  {
   "cell_type": "code",
   "execution_count": 41,
   "metadata": {},
   "outputs": [],
   "source": [
    "spotify_df['Review'] = spotify_df['Review'].apply(lambda x: remove_punctuation(x) if isinstance(x, str) else '')\n",
    "spotify_df = spotify_df[spotify_df.Rating != 3]\n",
    "spotify_df.loc[spotify_df[\"Rating\"] <= 2, \"Rating\"] = -1\n",
    "spotify_df.loc[spotify_df[\"Rating\"] >= 4, \"Rating\"] = 1"
   ]
  },
  {
   "cell_type": "markdown",
   "metadata": {},
   "source": [
    "> NOTE: Next up I classified the data:\n",
    "> 1) I dropped all the rows in which the Rating was 3 (so the reviews were having neutral sentiment [there were 5 possible Ratings: 1,2,3,4,5])\n",
    "> 2) Next up I've changed all positive reviews ($\\geq$ 4) to 1 and negative ($\\leq$ 2) to -1 "
   ]
  },
  {
   "cell_type": "code",
   "execution_count": 42,
   "metadata": {
    "collapsed": true
   },
   "outputs": [],
   "source": [
    "smaller_df = spotify_df[:20000]\n",
    "X_train, X_test, y_train, y_test = train_test_split(smaller_df['Review'], smaller_df['Rating'], test_size=0.3, random_state=44)\n",
    "vectorizer = CountVectorizer()\n",
    "X_train = vectorizer.fit_transform(X_train)\n",
    "X_test = vectorizer.transform(X_test)"
   ]
  },
  {
   "cell_type": "markdown",
   "metadata": {},
   "source": [
    "> NOTE: I made the vectorization using the training dataset (0.3 of the original dataset) and received a vector of size (38295, 22530)."
   ]
  },
  {
   "cell_type": "code",
   "execution_count": 43,
   "metadata": {
    "collapsed": true
   },
   "outputs": [
    {
     "data": {
      "text/html": [
       "<style>#sk-container-id-3 {color: black;background-color: white;}#sk-container-id-3 pre{padding: 0;}#sk-container-id-3 div.sk-toggleable {background-color: white;}#sk-container-id-3 label.sk-toggleable__label {cursor: pointer;display: block;width: 100%;margin-bottom: 0;padding: 0.3em;box-sizing: border-box;text-align: center;}#sk-container-id-3 label.sk-toggleable__label-arrow:before {content: \"▸\";float: left;margin-right: 0.25em;color: #696969;}#sk-container-id-3 label.sk-toggleable__label-arrow:hover:before {color: black;}#sk-container-id-3 div.sk-estimator:hover label.sk-toggleable__label-arrow:before {color: black;}#sk-container-id-3 div.sk-toggleable__content {max-height: 0;max-width: 0;overflow: hidden;text-align: left;background-color: #f0f8ff;}#sk-container-id-3 div.sk-toggleable__content pre {margin: 0.2em;color: black;border-radius: 0.25em;background-color: #f0f8ff;}#sk-container-id-3 input.sk-toggleable__control:checked~div.sk-toggleable__content {max-height: 200px;max-width: 100%;overflow: auto;}#sk-container-id-3 input.sk-toggleable__control:checked~label.sk-toggleable__label-arrow:before {content: \"▾\";}#sk-container-id-3 div.sk-estimator input.sk-toggleable__control:checked~label.sk-toggleable__label {background-color: #d4ebff;}#sk-container-id-3 div.sk-label input.sk-toggleable__control:checked~label.sk-toggleable__label {background-color: #d4ebff;}#sk-container-id-3 input.sk-hidden--visually {border: 0;clip: rect(1px 1px 1px 1px);clip: rect(1px, 1px, 1px, 1px);height: 1px;margin: -1px;overflow: hidden;padding: 0;position: absolute;width: 1px;}#sk-container-id-3 div.sk-estimator {font-family: monospace;background-color: #f0f8ff;border: 1px dotted black;border-radius: 0.25em;box-sizing: border-box;margin-bottom: 0.5em;}#sk-container-id-3 div.sk-estimator:hover {background-color: #d4ebff;}#sk-container-id-3 div.sk-parallel-item::after {content: \"\";width: 100%;border-bottom: 1px solid gray;flex-grow: 1;}#sk-container-id-3 div.sk-label:hover label.sk-toggleable__label {background-color: #d4ebff;}#sk-container-id-3 div.sk-serial::before {content: \"\";position: absolute;border-left: 1px solid gray;box-sizing: border-box;top: 0;bottom: 0;left: 50%;z-index: 0;}#sk-container-id-3 div.sk-serial {display: flex;flex-direction: column;align-items: center;background-color: white;padding-right: 0.2em;padding-left: 0.2em;position: relative;}#sk-container-id-3 div.sk-item {position: relative;z-index: 1;}#sk-container-id-3 div.sk-parallel {display: flex;align-items: stretch;justify-content: center;background-color: white;position: relative;}#sk-container-id-3 div.sk-item::before, #sk-container-id-3 div.sk-parallel-item::before {content: \"\";position: absolute;border-left: 1px solid gray;box-sizing: border-box;top: 0;bottom: 0;left: 50%;z-index: -1;}#sk-container-id-3 div.sk-parallel-item {display: flex;flex-direction: column;z-index: 1;position: relative;background-color: white;}#sk-container-id-3 div.sk-parallel-item:first-child::after {align-self: flex-end;width: 50%;}#sk-container-id-3 div.sk-parallel-item:last-child::after {align-self: flex-start;width: 50%;}#sk-container-id-3 div.sk-parallel-item:only-child::after {width: 0;}#sk-container-id-3 div.sk-dashed-wrapped {border: 1px dashed gray;margin: 0 0.4em 0.5em 0.4em;box-sizing: border-box;padding-bottom: 0.4em;background-color: white;}#sk-container-id-3 div.sk-label label {font-family: monospace;font-weight: bold;display: inline-block;line-height: 1.2em;}#sk-container-id-3 div.sk-label-container {text-align: center;}#sk-container-id-3 div.sk-container {/* jupyter's `normalize.less` sets `[hidden] { display: none; }` but bootstrap.min.css set `[hidden] { display: none !important; }` so we also need the `!important` here to be able to override the default hidden behavior on the sphinx rendered scikit-learn.org. See: https://github.com/scikit-learn/scikit-learn/issues/21755 */display: inline-block !important;position: relative;}#sk-container-id-3 div.sk-text-repr-fallback {display: none;}</style><div id=\"sk-container-id-3\" class=\"sk-top-container\"><div class=\"sk-text-repr-fallback\"><pre>LogisticRegression(max_iter=2000)</pre><b>In a Jupyter environment, please rerun this cell to show the HTML representation or trust the notebook. <br />On GitHub, the HTML representation is unable to render, please try loading this page with nbviewer.org.</b></div><div class=\"sk-container\" hidden><div class=\"sk-item\"><div class=\"sk-estimator sk-toggleable\"><input class=\"sk-toggleable__control sk-hidden--visually\" id=\"sk-estimator-id-3\" type=\"checkbox\" checked><label for=\"sk-estimator-id-3\" class=\"sk-toggleable__label sk-toggleable__label-arrow\">LogisticRegression</label><div class=\"sk-toggleable__content\"><pre>LogisticRegression(max_iter=2000)</pre></div></div></div></div></div>"
      ],
      "text/plain": [
       "LogisticRegression(max_iter=2000)"
      ]
     },
     "execution_count": 43,
     "metadata": {},
     "output_type": "execute_result"
    }
   ],
   "source": [
    "model = LogisticRegression(max_iter=iterations)\n",
    "model.fit(X_train, y_train)"
   ]
  },
  {
   "cell_type": "code",
   "execution_count": 44,
   "metadata": {
    "collapsed": true
   },
   "outputs": [
    {
     "name": "stdout",
     "output_type": "stream",
     "text": [
      "Most positive words: best excellent awesome love amazing easy great wonderful nice live\n",
      "Most negative words: worst horrible tired logo trash terrible awful infuriating useless glitchy\n"
     ]
    }
   ],
   "source": [
    "coefs = model.coef_.reshape(-1, 1)\n",
    "new_coefs = np.array([coef[0] for coef in coefs])\n",
    "\n",
    "most_positive_idx = (-new_coefs).argsort()[:10]\n",
    "most_negative_idx = new_coefs.argsort()[:10]\n",
    "\n",
    "most_positive = [vectorizer.get_feature_names_out()[i] for i in most_positive_idx]\n",
    "most_negative = [vectorizer.get_feature_names_out()[i] for i in most_negative_idx]\n",
    "\n",
    "print('Most positive words:', *most_positive)\n",
    "print('Most negative words:', *most_negative)"
   ]
  },
  {
   "cell_type": "markdown",
   "metadata": {},
   "source": [
    "> NOTE: We can see that the positive and the negative words fit nicely in their category"
   ]
  },
  {
   "cell_type": "code",
   "execution_count": 45,
   "metadata": {
    "collapsed": true
   },
   "outputs": [
    {
     "name": "stdout",
     "output_type": "stream",
     "text": [
      "Most negative reviews row numbers: 130 4456 2143 1153 577\n",
      "Most positive reviews row numbers: 305 816 2094 5844 3621\n",
      "\u001b[91mred \u001b[0m means a negative review (value == -1)\n",
      "\u001b[92mgreen \u001b[0m means a positive review (value == 1)\n",
      "\n",
      "Most positive reviews according to probability:\n",
      "\t\u001b[91m305:\u001b[0m The app is so glitchy on Android that it wont let me play any music on my phone Its been this way for 2 months now and at the worst time while I was on a road trip and needed tunes And no customer support number to help me fix itWhat am I paying for exactly Going to try to get refunded maybe Ill sign up again if they fix the app\n",
      "\t\u001b[91m816:\u001b[0m Awful app and service No longer paying for premium as spotify simply does not work\n",
      "\t\u001b[92m2094:\u001b[0m ITS AMAZING I love how i can do whatever I want with my music I am speechless ❤️❤️❤️\n",
      "\t\u001b[92m5844:\u001b[0m The best application to listen to music\n",
      "\t\u001b[92m3621:\u001b[0m It is the best app for streaming music 🎶\n",
      "\n",
      "Most negative reviews according to probability:\n",
      "\t\u001b[92m130:\u001b[0m I have used this app for a few years now Love it so much\n",
      "\t\u001b[92m4456:\u001b[0m A ton of content for a reasonable price\n",
      "\t\u001b[92m2143:\u001b[0m Overall it is excellent but why I gave it 4 stars bcoz we cant download the music and that only makes me disappointed \n",
      "\t\u001b[92m1153:\u001b[0m Really good to use Ive been using Spotify a lot in the last 2½ years Havent had any issues with it besides losing signal every now and then when in the car  as a passenger\n",
      "\t\u001b[92m577:\u001b[0m I love the app even without premium you still get great music options and an awesome experience 1010 recommend\n",
      "\n",
      "Model score: 0.8768333333333334\n"
     ]
    }
   ],
   "source": [
    "y_pred_prob = model.predict_proba(X_test)\n",
    "\n",
    "negative = y_pred_prob[:, 0]\n",
    "positive = y_pred_prob[:, 1]\n",
    "\n",
    "most_negative_idx = (-negative).argsort()[:5]\n",
    "most_positive_idx = positive.argsort()[-5:]\n",
    "\n",
    "print('Most negative reviews row numbers:', *most_negative_idx)\n",
    "print('Most positive reviews row numbers:', *most_positive_idx)\n",
    "\n",
    "print(f'{colors.NEGATIVE}red {colors.RESET} means a negative review (value == -1)')\n",
    "print(f'{colors.POSITIVE}green {colors.RESET} means a positive review (value == 1)')\n",
    "\n",
    "_ = 'Most positive reviews according to probability:'\n",
    "print(f\"\\n{_}\")\n",
    "\n",
    "for idx in most_positive_idx:\n",
    "    color = colors.POSITIVE if np.array(smaller_df['Rating'])[idx] == 1 else colors.NEGATIVE\n",
    "    print(f'\\t{color}{idx}:{colors.RESET}', np.array(smaller_df['Review'])[idx])\n",
    "\n",
    "_ = _.replace('positive', 'negative')\n",
    "print(f\"\\n{_}\")\n",
    "\n",
    "for idx in most_negative_idx:\n",
    "    color = colors.POSITIVE if np.array(smaller_df['Rating'])[idx] == 1 else colors.NEGATIVE\n",
    "    print(f'\\t{color}{idx}:{colors.RESET}',np.array(smaller_df['Review'])[idx])\n",
    "\n",
    "print(f'\\nModel score: {model.score(X_test, y_test)}')\n"
   ]
  },
  {
   "cell_type": "markdown",
   "metadata": {},
   "source": [
    "> NOTE: The model Rating was 0.876 which is a quite high of a score - meaning that the data was correcly split."
   ]
  },
  {
   "cell_type": "code",
   "execution_count": 46,
   "metadata": {
    "collapsed": true
   },
   "outputs": [],
   "source": [
    "significant_words = [*most_positive, *most_negative]"
   ]
  },
  {
   "cell_type": "code",
   "execution_count": 47,
   "metadata": {
    "collapsed": true
   },
   "outputs": [
    {
     "name": "stdout",
     "output_type": "stream",
     "text": [
      "Most positive words: best excellent awesome wonderful amazing nice love easy great live\n",
      "Most negative words: worst trash logo terrible awful useless tired glitchy infuriating horrible\n",
      "\n",
      "Most positive reviews row numbers: 816 5650 3036 4199 3621\n",
      "Most negative reviews row numbers: 149 2898 3139 5881 3126\n",
      "\n",
      "\u001b[91mred \u001b[0m means a negative review (value == -1)\n",
      "\u001b[92mgreen \u001b[0m means a positive review (value == 1)\n",
      "\n",
      "Most positive reviews according to probability:\n",
      "\t\u001b[91m816:\u001b[0m Awful app and service No longer paying for premium as spotify simply does not work\n",
      "\t\u001b[91m5650:\u001b[0m Its so hard to just get one song on And 6 skips per hour No This update has made it so hard to function anything I would rate it lower if it was even possible\n",
      "\t\u001b[91m3036:\u001b[0m There so much ads after every single songs\n",
      "\t\u001b[91m4199:\u001b[0m Cant play on s22 without it pausing when screen is locked Changed permissions and reinstalled and hasnt changed\n",
      "\t\u001b[92m3621:\u001b[0m It is the best app for streaming music 🎶\n",
      "\n",
      "Most negative reviews according to probability:\n",
      "\t\u001b[92m149:\u001b[0m Easy to opporate and the pmaylist it matches up foe me r spot in what i wanted to hear 👍👍\n",
      "\t\u001b[92m2898:\u001b[0m Theres some adds but its usually fine\n",
      "\t\u001b[91m3139:\u001b[0m I cant use anymore my acct prem from abroadwhats happening to you Spotify kaloka ka😏\n",
      "\t\u001b[92m5881:\u001b[0m I am a happy user of spotify Less ads even when I am using the free account Plus I get to stream songs from BTS members I also love playlists and podcasts and the additional short vid playback for some of the songs The app is easy to use and very practical too ☺️☺️\n",
      "\t\u001b[91m3126:\u001b[0m I already disliked this app on mobile anyway but the experience i am having is souring my thoughts on it more On console and desktop its awsone But on mobile you really would use this I repeatedly try to skip songs i already have hidden on the first place so they shouldnt play anway but they still do And even if i hide a song i dont like it still plays which annoys me You are better off using some other app than this on mobile 010 if i could give it that rating\n",
      "\n",
      "Model score: 0.7205\n"
     ]
    }
   ],
   "source": [
    "X_train, X_test, y_train, y_test = train_test_split(smaller_df['Review'], smaller_df['Rating'], test_size=0.3, random_state=44)\n",
    "vectorizer = CountVectorizer(vocabulary=significant_words)\n",
    "X_train = vectorizer.fit_transform(X_train)\n",
    "X_test = vectorizer.transform(X_test)\n",
    "model = LogisticRegression(max_iter=iterations)\n",
    "model.fit(X_train, y_train)\n",
    "\n",
    "coefs = model.coef_.reshape(-1, 1)\n",
    "new_coefs = np.array([coef[0] for coef in coefs])\n",
    "\n",
    "most_positive_idx = (-new_coefs).argsort()[:10]\n",
    "most_negative_idx = new_coefs.argsort()[:10]\n",
    "\n",
    "most_positive = [vectorizer.get_feature_names_out()[i] for i in most_positive_idx]\n",
    "most_negative = [vectorizer.get_feature_names_out()[i] for i in most_negative_idx]\n",
    "\n",
    "print('Most positive words:', *most_positive)\n",
    "print('Most negative words:', *most_negative, end='\\n\\n')\n",
    "y_pred = model.predict(X_test)\n",
    "y_pred_prob = model.predict_proba(X_test)\n",
    "negative = y_pred_prob[:, 0]\n",
    "positive = y_pred_prob[:, 1]\n",
    "\n",
    "most_negative_idx = (-negative).argsort()[:5]\n",
    "most_positive_idx = positive.argsort()[-5:]\n",
    "print('Most positive reviews row numbers:', *most_positive_idx)\n",
    "print('Most negative reviews row numbers:', *most_negative_idx, end='\\n\\n')\n",
    "\n",
    "print(f'{colors.NEGATIVE}red {colors.RESET} means a negative review (value == -1)')\n",
    "print(f'{colors.POSITIVE}green {colors.RESET} means a positive review (value == 1)')\n",
    "\n",
    "_ = '\\nMost positive reviews according to probability:'\n",
    "print(_)\n",
    "for idx in most_positive_idx:\n",
    "    color = colors.POSITIVE if np.array(smaller_df['Rating'])[idx] == 1 else colors.NEGATIVE\n",
    "    print(f'\\t{color}{idx}:{colors.RESET}', np.array(smaller_df['Review'])[idx])\n",
    "\n",
    "_ = _.replace('positive', 'negative')\n",
    "print(_)\n",
    "for idx in most_negative_idx:\n",
    "    color = colors.POSITIVE if np.array(smaller_df['Rating'])[idx] == 1 else colors.NEGATIVE\n",
    "    print(f'\\t{color}{idx}:{colors.RESET}',np.array(smaller_df['Review'])[idx])\n",
    "\n",
    "print(f'\\nModel score: {model.score(X_test, y_test)}')"
   ]
  },
  {
   "cell_type": "markdown",
   "metadata": {},
   "source": [
    "> NOTE: Using the limited dictionary we achieved worse results - the model Rating is now 0.72\n",
    ">\n",
    "> The positive reviews were mostly predicted uncorrect (4/5).\n",
    "> The negative reviews were mostly predicted uncorrect (3/5).\n",
    ">\n",
    "> The most positive/negative predictions may be bad because we took a bad vocabulary (or to short of a vocabulary). \n",
    "> If we want to increate the Rating of the predictions we should think about adding more words to vocabulary."
   ]
  },
  {
   "cell_type": "code",
   "execution_count": 48,
   "metadata": {
    "collapsed": true
   },
   "outputs": [
    {
     "name": "stdout",
     "output_type": "stream",
     "text": [
      "\u001b[91m-3.03841\u001b[0m: worst\n",
      "\u001b[91m-2.75618\u001b[0m: trash\n",
      "\u001b[91m-2.68209\u001b[0m: logo\n",
      "\u001b[91m-2.68013\u001b[0m: terrible\n",
      "\u001b[91m-2.66902\u001b[0m: awful\n",
      "\u001b[91m-2.37019\u001b[0m: useless\n",
      "\u001b[91m-2.35925\u001b[0m: tired\n",
      "\u001b[91m-2.17297\u001b[0m: glitchy\n",
      "\u001b[91m-2.12849\u001b[0m: infuriating\n",
      "\u001b[91m-2.12398\u001b[0m: horrible\n",
      "\u001b[92m 1.41897\u001b[0m: live\n",
      "\u001b[92m 1.70268\u001b[0m: great\n",
      "\u001b[92m 2.11377\u001b[0m: easy\n",
      "\u001b[92m 2.14081\u001b[0m: love\n",
      "\u001b[92m 2.17415\u001b[0m: nice\n",
      "\u001b[92m 2.21666\u001b[0m: amazing\n",
      "\u001b[92m 2.34981\u001b[0m: wonderful\n",
      "\u001b[92m 2.55462\u001b[0m: awesome\n",
      "\u001b[92m 2.75647\u001b[0m: excellent\n",
      "\u001b[92m 3.17693\u001b[0m: best\n"
     ]
    }
   ],
   "source": [
    "coefs = np.array([coef for coef in model.coef_[0]])\n",
    "idx = coefs.argsort()\n",
    "for i in idx:\n",
    "    color = colors.POSITIVE if coefs[i] > 0 else colors.NEGATIVE\n",
    "    print(f'{color}{round(coefs[i],5):>8}{colors.RESET}: {vectorizer.get_feature_names_out()[i]}')"
   ]
  },
  {
   "cell_type": "markdown",
   "metadata": {},
   "source": [
    "> NOTE: We can see that the most negative words were: worst, trash, terrible - all having negative meaning in english\n",
    "> \n",
    "> When it comes to positive words they were: best, excellent, awesome - all of them having a very positive meaning in english\n",
    "> \n",
    "> So the model got the positive and negative words impacts right."
   ]
  },
  {
   "cell_type": "code",
   "execution_count": 49,
   "metadata": {
    "collapsed": true
   },
   "outputs": [
    {
     "name": "stdout",
     "output_type": "stream",
     "text": [
      "Timing fit of model without limited dictionary...\n",
      "1.61 s ± 26 ms per loop (mean ± std. dev. of 7 runs, 1 loop each)\n",
      "Model Rating: 0.8768333333333334\n",
      "\n",
      "Timing fit of model with limited dictionary...\n",
      "43.2 ms ± 3.35 ms per loop (mean ± std. dev. of 7 runs, 10 loops each)\n",
      "Model Rating: 0.7205\n"
     ]
    }
   ],
   "source": [
    "X_train, X_test, y_train, y_test = train_test_split(smaller_df['Review'], smaller_df['Rating'], test_size=0.3, random_state=44)\n",
    "vectorizer = CountVectorizer()\n",
    "X_train = vectorizer.fit_transform(X_train)\n",
    "X_test = vectorizer.transform(X_test)\n",
    "model = LogisticRegression(max_iter=iterations)\n",
    "print('Timing fit of model without limited dictionary...')\n",
    "%timeit model.fit(X_train, y_train)\n",
    "print(f'Model Rating: {model.score(X_test, y_test)}', end='\\n\\n')\n",
    "\n",
    "X_train, X_test, y_train, y_test = train_test_split(smaller_df['Review'], smaller_df['Rating'], test_size=0.3, random_state=44)\n",
    "vectorizer = CountVectorizer(vocabulary=significant_words)\n",
    "X_train = vectorizer.fit_transform(X_train)\n",
    "X_test = vectorizer.transform(X_test)\n",
    "model = LogisticRegression(max_iter=iterations)\n",
    "print('Timing fit of model with limited dictionary...')\n",
    "%timeit model.fit(X_train, y_train)\n",
    "print(f'Model Rating: {model.score(X_test, y_test)}')"
   ]
  },
  {
   "cell_type": "markdown",
   "metadata": {},
   "source": [
    "> NOTE: The time difference the model in which we used predefined vocabulary is enormous (almost 40x) - because we do not have to analyze all of the words but only ones from the given vocabulary.  \n",
    "> Of course because of that the score is worse (but we discussed it before, as it is the same model as previously)"
   ]
  },
  {
   "cell_type": "markdown",
   "metadata": {},
   "source": [
    "# Note: We now begin comparing different classifiers"
   ]
  },
  {
   "cell_type": "code",
   "execution_count": 50,
   "metadata": {
    "tags": []
   },
   "outputs": [],
   "source": [
    "# HELPER FUNCTIONS\n",
    "    \n",
    "def get_model(vectorizer, model, vectorizer_name, model_name):\n",
    "    X_train, X_test, y_train, y_test = train_test_split(smaller_df['Review'], smaller_df['Rating'], test_size=0.3, random_state=44)\n",
    "\n",
    "    ctmTr = vectorizer.fit_transform(X_train)\n",
    "    X_test_dtm = vectorizer.transform(X_test)\n",
    "\n",
    "    print(f'Timing fit of {model_name}...')\n",
    "    %timeit model.fit(ctmTr, y_train)\n",
    "\n",
    "    model_score = model.score(X_test_dtm, y_test)\n",
    "    print(f\"Results for {model_name} with {vectorizer_name}\")\n",
    "    print(f'Model score: {model_score}')\n",
    "\n",
    "    y_pred_lr = model.predict(X_test_dtm)\n",
    "\n",
    "    cm_lr = confusion_matrix(y_test, y_pred_lr)\n",
    "    tn, fp, fn, tp = confusion_matrix(y_test, y_pred_lr).ravel()\n",
    "\n",
    "    print(f'True negative: {tn}')\n",
    "    print(f'False positive: {fp}')\n",
    "    print(f'False negative: {fn}')\n",
    "    print(f'True positive: {tp}')\n",
    "\n",
    "    tpr_lr = round(tp/(tp+fn), 4)\n",
    "    tnr_lr = round(tn/(tn+fp), 4)\n",
    "    print(f'True positive rate: {tpr_lr}\\nTrue negative rate: {tnr_lr}')\n"
   ]
  },
  {
   "cell_type": "code",
   "execution_count": 51,
   "metadata": {},
   "outputs": [
    {
     "name": "stdout",
     "output_type": "stream",
     "text": [
      "Timing fit of Logistic Regression...\n",
      "1.63 s ± 51.3 ms per loop (mean ± std. dev. of 7 runs, 1 loop each)\n",
      "Results for Logistic Regression with CountVectorizer\n",
      "Model score: 0.8768333333333334\n",
      "True negative: 2029\n",
      "False positive: 402\n",
      "False negative: 337\n",
      "True positive: 3232\n",
      "True positive rate: 0.9056\n",
      "True negative rate: 0.8346\n"
     ]
    }
   ],
   "source": [
    "get_model(CountVectorizer(), LogisticRegression(max_iter=iterations), 'CountVectorizer', 'Logistic Regression')"
   ]
  },
  {
   "cell_type": "markdown",
   "metadata": {},
   "source": [
    "> NOTE: Logistic Regression with CountVectorizer achieved: \n",
    ">\n",
    "> * score of 0.876\n",
    "> * true positive rate of 0.905\n",
    "> * true negative rate of 0.834\n",
    "> * it took about 1.6s \n",
    ">\n",
    "> It achieved overall quite high of a score, but maybe we can do better with different models"
   ]
  },
  {
   "cell_type": "code",
   "execution_count": 52,
   "metadata": {},
   "outputs": [
    {
     "name": "stdout",
     "output_type": "stream",
     "text": [
      "Timing fit of Support Vector Machine...\n",
      "30 s ± 877 ms per loop (mean ± std. dev. of 7 runs, 1 loop each)\n",
      "Results for Support Vector Machine with CountVectorizer\n",
      "Model score: 0.8736666666666667\n",
      "True negative: 2101\n",
      "False positive: 330\n",
      "False negative: 428\n",
      "True positive: 3141\n",
      "True positive rate: 0.8801\n",
      "True negative rate: 0.8643\n"
     ]
    }
   ],
   "source": [
    "get_model(CountVectorizer(), svm.SVC(), 'CountVectorizer', 'Support Vector Machine')"
   ]
  },
  {
   "cell_type": "markdown",
   "metadata": {},
   "source": [
    "> NOTE: Support Vector Machine with CountVectorizer achieved: \n",
    "> * score of 0.873 (**worse** than Logistic Regression) \n",
    "> * true positive rate of 0.88 (**worse** than Logistic Regression)\n",
    "> * true negative rate of 0.864 (**better** than Logistic Regression)\n",
    "> * it took about 30s (almost 20x **longer** than Logistic Regression)\n",
    ">\n",
    "> Comparing it with Logistic Regression it achieved worse overall score in longer time."
   ]
  },
  {
   "cell_type": "code",
   "execution_count": 57,
   "metadata": {},
   "outputs": [
    {
     "name": "stdout",
     "output_type": "stream",
     "text": [
      "Timing fit of K Neighbors Classifier...\n",
      "2.38 ms ± 105 µs per loop (mean ± std. dev. of 7 runs, 100 loops each)\n",
      "Results for K Neighbors Classifier with CountVectorizer\n",
      "Model score: 0.712\n",
      "True negative: 927\n",
      "False positive: 1504\n",
      "False negative: 224\n",
      "True positive: 3345\n",
      "True positive rate: 0.9372\n",
      "True negative rate: 0.3813\n"
     ]
    }
   ],
   "source": [
    "get_model(CountVectorizer(), KNeighborsClassifier(n_neighbors=5), 'CountVectorizer', 'K Neighbors Classifier')"
   ]
  },
  {
   "cell_type": "markdown",
   "metadata": {},
   "source": [
    "> Note: K Neighbors Classifier with CountVectorizer achieved:\n",
    "> * score of 0.712 (**worse** than the previous two) \n",
    "> * true positive rate of 0.937 (**better** than the previous two)\n",
    "> * true negative rate of 0.381 (**worse** than the previous two)\n",
    "> * it took about 2.38ms (almost 800x **faster** than Logistic Regression)\n",
    ">\n",
    "> Comparing it with the previous two it achieved worse overall score but with much less time taken. \\\n",
    "Depending on what we want to achieve it might be a good choice. Of course we could improve the Rating score the number of neighbours. \n",
    ">\n",
    "> **Best overall Rating was achieved by Logistic Regression with CountVectorizer**"
   ]
  },
  {
   "cell_type": "markdown",
   "metadata": {},
   "source": [
    "# Using TF-IDF instead of CountVectorizer"
   ]
  },
  {
   "cell_type": "code",
   "execution_count": 54,
   "metadata": {},
   "outputs": [
    {
     "name": "stdout",
     "output_type": "stream",
     "text": [
      "Timing fit of Logistic Regression...\n",
      "390 ms ± 16.4 ms per loop (mean ± std. dev. of 7 runs, 1 loop each)\n",
      "Results for Logistic Regression with TF-IDF\n",
      "Model score: 0.883\n",
      "True negative: 2083\n",
      "False positive: 348\n",
      "False negative: 354\n",
      "True positive: 3215\n",
      "True positive rate: 0.9008\n",
      "True negative rate: 0.8568\n"
     ]
    }
   ],
   "source": [
    "get_model(TfidfVectorizer(), LogisticRegression(), 'TF-IDF', 'Logistic Regression')"
   ]
  },
  {
   "cell_type": "code",
   "execution_count": 55,
   "metadata": {},
   "outputs": [
    {
     "name": "stdout",
     "output_type": "stream",
     "text": [
      "Timing fit of Support Vector Machine...\n",
      "57.5 s ± 1.1 s per loop (mean ± std. dev. of 7 runs, 1 loop each)\n",
      "Results for Support Vector Machine with TF-IDF\n",
      "Model score: 0.8886666666666667\n",
      "True negative: 2133\n",
      "False positive: 298\n",
      "False negative: 370\n",
      "True positive: 3199\n",
      "True positive rate: 0.8963\n",
      "True negative rate: 0.8774\n"
     ]
    }
   ],
   "source": [
    "get_model(TfidfVectorizer(), svm.SVC(kernel='rbf'), 'TF-IDF', 'Support Vector Machine')"
   ]
  },
  {
   "cell_type": "code",
   "execution_count": 56,
   "metadata": {},
   "outputs": [
    {
     "name": "stdout",
     "output_type": "stream",
     "text": [
      "Timing fit of K Neighbors Classifier...\n",
      "2.91 ms ± 117 µs per loop (mean ± std. dev. of 7 runs, 100 loops each)\n",
      "Results for K Neighbors Classifier with TF-IDF\n",
      "Model score: 0.809\n",
      "True negative: 1634\n",
      "False positive: 797\n",
      "False negative: 349\n",
      "True positive: 3220\n",
      "True positive rate: 0.9022\n",
      "True negative rate: 0.6722\n"
     ]
    }
   ],
   "source": [
    "get_model(TfidfVectorizer(), KNeighborsClassifier(n_neighbors=5), 'TF-IDF', 'K Neighbors Classifier')"
   ]
  },
  {
   "cell_type": "markdown",
   "metadata": {},
   "source": [
    "> NOTE: After checking the same classifiers with TF-IDF we achieved interesting results.  \n",
    "> The best overall Rating with TF-IDF was achieved by SVM:\n",
    "> * Rating of 0.888 (**better** than Logistic Regression with CountVectorizer)\n",
    "> * true positive rate of 0.896 (**worse** than Logistic Regression with CountVectorizer)\n",
    "> * true negative rate of 0.877 (**better** than Logistic Regression with CountVectorizer)"
   ]
  }
 ],
 "metadata": {
  "anaconda-cloud": {},
  "kernelspec": {
   "display_name": "Python 3 (ipykernel)",
   "language": "python",
   "name": "python3"
  },
  "language_info": {
   "codemirror_mode": {
    "name": "ipython",
    "version": 3
   },
   "file_extension": ".py",
   "mimetype": "text/x-python",
   "name": "python",
   "nbconvert_exporter": "python",
   "pygments_lexer": "ipython3",
   "version": "3.9.12"
  },
  "vscode": {
   "interpreter": {
    "hash": "21c533348f67f502eabc569758b203ffa20ec3a8cd71fc4a8c028e54127dd2ae"
   }
  }
 },
 "nbformat": 4,
 "nbformat_minor": 4
}
