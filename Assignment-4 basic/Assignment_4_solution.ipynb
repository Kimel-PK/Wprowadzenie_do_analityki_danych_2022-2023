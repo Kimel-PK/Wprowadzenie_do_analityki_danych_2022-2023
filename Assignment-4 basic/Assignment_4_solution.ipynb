{
 "cells": [
  {
   "cell_type": "code",
   "execution_count": 1,
   "metadata": {},
   "outputs": [
    {
     "data": {
      "text/html": [
       "<div>\n",
       "<style scoped>\n",
       "    .dataframe tbody tr th:only-of-type {\n",
       "        vertical-align: middle;\n",
       "    }\n",
       "\n",
       "    .dataframe tbody tr th {\n",
       "        vertical-align: top;\n",
       "    }\n",
       "\n",
       "    .dataframe thead th {\n",
       "        text-align: right;\n",
       "    }\n",
       "</style>\n",
       "<table border=\"1\" class=\"dataframe\">\n",
       "  <thead>\n",
       "    <tr style=\"text-align: right;\">\n",
       "      <th></th>\n",
       "      <th>name</th>\n",
       "      <th>review</th>\n",
       "      <th>rating</th>\n",
       "    </tr>\n",
       "  </thead>\n",
       "  <tbody>\n",
       "    <tr>\n",
       "      <th>0</th>\n",
       "      <td>Planetwise Flannel Wipes</td>\n",
       "      <td>These flannel wipes are OK, but in my opinion ...</td>\n",
       "      <td>3</td>\n",
       "    </tr>\n",
       "    <tr>\n",
       "      <th>1</th>\n",
       "      <td>Planetwise Wipe Pouch</td>\n",
       "      <td>it came early and was not disappointed. i love...</td>\n",
       "      <td>5</td>\n",
       "    </tr>\n",
       "    <tr>\n",
       "      <th>2</th>\n",
       "      <td>Annas Dream Full Quilt with 2 Shams</td>\n",
       "      <td>Very soft and comfortable and warmer than it l...</td>\n",
       "      <td>5</td>\n",
       "    </tr>\n",
       "    <tr>\n",
       "      <th>3</th>\n",
       "      <td>Stop Pacifier Sucking without tears with Thumb...</td>\n",
       "      <td>This is a product well worth the purchase.  I ...</td>\n",
       "      <td>5</td>\n",
       "    </tr>\n",
       "    <tr>\n",
       "      <th>4</th>\n",
       "      <td>Stop Pacifier Sucking without tears with Thumb...</td>\n",
       "      <td>All of my kids have cried non-stop when I trie...</td>\n",
       "      <td>5</td>\n",
       "    </tr>\n",
       "    <tr>\n",
       "      <th>5</th>\n",
       "      <td>Stop Pacifier Sucking without tears with Thumb...</td>\n",
       "      <td>When the Binky Fairy came to our house, we did...</td>\n",
       "      <td>5</td>\n",
       "    </tr>\n",
       "    <tr>\n",
       "      <th>6</th>\n",
       "      <td>A Tale of Baby's Days with Peter Rabbit</td>\n",
       "      <td>Lovely book, it's bound tightly so you may not...</td>\n",
       "      <td>4</td>\n",
       "    </tr>\n",
       "    <tr>\n",
       "      <th>7</th>\n",
       "      <td>Baby Tracker&amp;reg; - Daily Childcare Journal, S...</td>\n",
       "      <td>Perfect for new parents. We were able to keep ...</td>\n",
       "      <td>5</td>\n",
       "    </tr>\n",
       "    <tr>\n",
       "      <th>8</th>\n",
       "      <td>Baby Tracker&amp;reg; - Daily Childcare Journal, S...</td>\n",
       "      <td>A friend of mine pinned this product on Pinter...</td>\n",
       "      <td>5</td>\n",
       "    </tr>\n",
       "    <tr>\n",
       "      <th>9</th>\n",
       "      <td>Baby Tracker&amp;reg; - Daily Childcare Journal, S...</td>\n",
       "      <td>This has been an easy way for my nanny to reco...</td>\n",
       "      <td>4</td>\n",
       "    </tr>\n",
       "    <tr>\n",
       "      <th>10</th>\n",
       "      <td>Baby Tracker&amp;reg; - Daily Childcare Journal, S...</td>\n",
       "      <td>I love this journal and our nanny uses it ever...</td>\n",
       "      <td>4</td>\n",
       "    </tr>\n",
       "    <tr>\n",
       "      <th>11</th>\n",
       "      <td>Baby Tracker&amp;reg; - Daily Childcare Journal, S...</td>\n",
       "      <td>This book is perfect!  I'm a first time new mo...</td>\n",
       "      <td>5</td>\n",
       "    </tr>\n",
       "    <tr>\n",
       "      <th>12</th>\n",
       "      <td>Baby Tracker&amp;reg; - Daily Childcare Journal, S...</td>\n",
       "      <td>I originally just gave the nanny a pad of pape...</td>\n",
       "      <td>4</td>\n",
       "    </tr>\n",
       "    <tr>\n",
       "      <th>13</th>\n",
       "      <td>Baby Tracker&amp;reg; - Daily Childcare Journal, S...</td>\n",
       "      <td>I thought keeping a simple handwritten journal...</td>\n",
       "      <td>3</td>\n",
       "    </tr>\n",
       "    <tr>\n",
       "      <th>14</th>\n",
       "      <td>Nature's Lullabies First Year Sticker Calendar</td>\n",
       "      <td>Space for monthly photos, info and a lot of us...</td>\n",
       "      <td>5</td>\n",
       "    </tr>\n",
       "    <tr>\n",
       "      <th>15</th>\n",
       "      <td>Nature's Lullabies First Year Sticker Calendar</td>\n",
       "      <td>I bought this calender for myself for my secon...</td>\n",
       "      <td>4</td>\n",
       "    </tr>\n",
       "    <tr>\n",
       "      <th>16</th>\n",
       "      <td>Nature's Lullabies First Year Sticker Calendar</td>\n",
       "      <td>I love this little calender, you can keep trac...</td>\n",
       "      <td>5</td>\n",
       "    </tr>\n",
       "    <tr>\n",
       "      <th>17</th>\n",
       "      <td>Nature's Lullabies Second Year Sticker Calendar</td>\n",
       "      <td>This was the only calender I could find for th...</td>\n",
       "      <td>5</td>\n",
       "    </tr>\n",
       "    <tr>\n",
       "      <th>18</th>\n",
       "      <td>Nature's Lullabies Second Year Sticker Calendar</td>\n",
       "      <td>I completed a calendar for my son's first year...</td>\n",
       "      <td>4</td>\n",
       "    </tr>\n",
       "    <tr>\n",
       "      <th>19</th>\n",
       "      <td>Nature's Lullabies Second Year Sticker Calendar</td>\n",
       "      <td>We wanted to get something to keep track of ou...</td>\n",
       "      <td>5</td>\n",
       "    </tr>\n",
       "    <tr>\n",
       "      <th>20</th>\n",
       "      <td>Nature's Lullabies Second Year Sticker Calendar</td>\n",
       "      <td>I had a hard time finding a second year calend...</td>\n",
       "      <td>5</td>\n",
       "    </tr>\n",
       "    <tr>\n",
       "      <th>21</th>\n",
       "      <td>Nature's Lullabies Second Year Sticker Calendar</td>\n",
       "      <td>I only purchased a second-year calendar for my...</td>\n",
       "      <td>2</td>\n",
       "    </tr>\n",
       "    <tr>\n",
       "      <th>22</th>\n",
       "      <td>Nature's Lullabies Second Year Sticker Calendar</td>\n",
       "      <td>I LOVE this calendar for recording events of m...</td>\n",
       "      <td>5</td>\n",
       "    </tr>\n",
       "    <tr>\n",
       "      <th>23</th>\n",
       "      <td>Nature's Lullabies Second Year Sticker Calendar</td>\n",
       "      <td>Calendar is exactly as described, but I find t...</td>\n",
       "      <td>3</td>\n",
       "    </tr>\n",
       "    <tr>\n",
       "      <th>24</th>\n",
       "      <td>Nature's Lullabies Second Year Sticker Calendar</td>\n",
       "      <td>Wife loves this calender. Comes with a lot of ...</td>\n",
       "      <td>5</td>\n",
       "    </tr>\n",
       "    <tr>\n",
       "      <th>25</th>\n",
       "      <td>Nature's Lullabies Second Year Sticker Calendar</td>\n",
       "      <td>My daughter had her 1st baby over a year ago. ...</td>\n",
       "      <td>5</td>\n",
       "    </tr>\n",
       "    <tr>\n",
       "      <th>26</th>\n",
       "      <td>Baby's First Journal - Green</td>\n",
       "      <td>Extremely useful! As a new mom, tired and inex...</td>\n",
       "      <td>5</td>\n",
       "    </tr>\n",
       "    <tr>\n",
       "      <th>27</th>\n",
       "      <td>Lamaze Peekaboo, I Love You</td>\n",
       "      <td>My son loves peek a boo at this age of 9 month...</td>\n",
       "      <td>3</td>\n",
       "    </tr>\n",
       "    <tr>\n",
       "      <th>28</th>\n",
       "      <td>Lamaze Peekaboo, I Love You</td>\n",
       "      <td>One of baby's first and favorite books, and it...</td>\n",
       "      <td>4</td>\n",
       "    </tr>\n",
       "    <tr>\n",
       "      <th>29</th>\n",
       "      <td>Lamaze Peekaboo, I Love You</td>\n",
       "      <td>I like how the book has a hook to attach it to...</td>\n",
       "      <td>5</td>\n",
       "    </tr>\n",
       "  </tbody>\n",
       "</table>\n",
       "</div>"
      ],
      "text/plain": [
       "                                                 name  \\\n",
       "0                            Planetwise Flannel Wipes   \n",
       "1                               Planetwise Wipe Pouch   \n",
       "2                 Annas Dream Full Quilt with 2 Shams   \n",
       "3   Stop Pacifier Sucking without tears with Thumb...   \n",
       "4   Stop Pacifier Sucking without tears with Thumb...   \n",
       "5   Stop Pacifier Sucking without tears with Thumb...   \n",
       "6             A Tale of Baby's Days with Peter Rabbit   \n",
       "7   Baby Tracker&reg; - Daily Childcare Journal, S...   \n",
       "8   Baby Tracker&reg; - Daily Childcare Journal, S...   \n",
       "9   Baby Tracker&reg; - Daily Childcare Journal, S...   \n",
       "10  Baby Tracker&reg; - Daily Childcare Journal, S...   \n",
       "11  Baby Tracker&reg; - Daily Childcare Journal, S...   \n",
       "12  Baby Tracker&reg; - Daily Childcare Journal, S...   \n",
       "13  Baby Tracker&reg; - Daily Childcare Journal, S...   \n",
       "14     Nature's Lullabies First Year Sticker Calendar   \n",
       "15     Nature's Lullabies First Year Sticker Calendar   \n",
       "16     Nature's Lullabies First Year Sticker Calendar   \n",
       "17    Nature's Lullabies Second Year Sticker Calendar   \n",
       "18    Nature's Lullabies Second Year Sticker Calendar   \n",
       "19    Nature's Lullabies Second Year Sticker Calendar   \n",
       "20    Nature's Lullabies Second Year Sticker Calendar   \n",
       "21    Nature's Lullabies Second Year Sticker Calendar   \n",
       "22    Nature's Lullabies Second Year Sticker Calendar   \n",
       "23    Nature's Lullabies Second Year Sticker Calendar   \n",
       "24    Nature's Lullabies Second Year Sticker Calendar   \n",
       "25    Nature's Lullabies Second Year Sticker Calendar   \n",
       "26                       Baby's First Journal - Green   \n",
       "27                        Lamaze Peekaboo, I Love You   \n",
       "28                        Lamaze Peekaboo, I Love You   \n",
       "29                        Lamaze Peekaboo, I Love You   \n",
       "\n",
       "                                               review  rating  \n",
       "0   These flannel wipes are OK, but in my opinion ...       3  \n",
       "1   it came early and was not disappointed. i love...       5  \n",
       "2   Very soft and comfortable and warmer than it l...       5  \n",
       "3   This is a product well worth the purchase.  I ...       5  \n",
       "4   All of my kids have cried non-stop when I trie...       5  \n",
       "5   When the Binky Fairy came to our house, we did...       5  \n",
       "6   Lovely book, it's bound tightly so you may not...       4  \n",
       "7   Perfect for new parents. We were able to keep ...       5  \n",
       "8   A friend of mine pinned this product on Pinter...       5  \n",
       "9   This has been an easy way for my nanny to reco...       4  \n",
       "10  I love this journal and our nanny uses it ever...       4  \n",
       "11  This book is perfect!  I'm a first time new mo...       5  \n",
       "12  I originally just gave the nanny a pad of pape...       4  \n",
       "13  I thought keeping a simple handwritten journal...       3  \n",
       "14  Space for monthly photos, info and a lot of us...       5  \n",
       "15  I bought this calender for myself for my secon...       4  \n",
       "16  I love this little calender, you can keep trac...       5  \n",
       "17  This was the only calender I could find for th...       5  \n",
       "18  I completed a calendar for my son's first year...       4  \n",
       "19  We wanted to get something to keep track of ou...       5  \n",
       "20  I had a hard time finding a second year calend...       5  \n",
       "21  I only purchased a second-year calendar for my...       2  \n",
       "22  I LOVE this calendar for recording events of m...       5  \n",
       "23  Calendar is exactly as described, but I find t...       3  \n",
       "24  Wife loves this calender. Comes with a lot of ...       5  \n",
       "25  My daughter had her 1st baby over a year ago. ...       5  \n",
       "26  Extremely useful! As a new mom, tired and inex...       5  \n",
       "27  My son loves peek a boo at this age of 9 month...       3  \n",
       "28  One of baby's first and favorite books, and it...       4  \n",
       "29  I like how the book has a hook to attach it to...       5  "
      ]
     },
     "execution_count": 1,
     "metadata": {},
     "output_type": "execute_result"
    }
   ],
   "source": [
    "import pandas as pd\n",
    "import numpy as np\n",
    "import matplotlib.pyplot as plt\n",
    "import string\n",
    "from sklearn.linear_model import LogisticRegression\n",
    "from sklearn.feature_extraction.text import CountVectorizer\n",
    "import os\n",
    "\n",
    "def remove_punctuation(text):\n",
    "    import string\n",
    "    translator = str.maketrans('', '', string.punctuation)\n",
    "    return text.translate(translator)\n",
    "\n",
    "baby_df = pd.read_csv('amazon_baby.csv')\n",
    "baby_df.head(30)"
   ]
  },
  {
   "cell_type": "markdown",
   "metadata": {},
   "source": [
    "## Exercise 1 (data preparation)\n",
    "a) Remove punctuation from reviews using the given function.   \n",
    "b) Replace all missing (nan) revies with empty \"\" string.  \n",
    "c) Drop all the entries with rating = 3, as they have neutral sentiment.   \n",
    "d) Set all positive ($\\geq$4) ratings to 1 and negative($\\leq$2) to -1."
   ]
  },
  {
   "cell_type": "code",
   "execution_count": 2,
   "metadata": {},
   "outputs": [
    {
     "name": "stdout",
     "output_type": "stream",
     "text": [
      "\n"
     ]
    }
   ],
   "source": [
    "#b)\n",
    "baby_df[\"review\"].replace(np.nan, \"\", inplace=True)\n",
    "#short test:\n",
    "baby_df[\"review\"][38] == baby_df[\"review\"][38]\n",
    "print(baby_df[\"review\"][38])"
   ]
  },
  {
   "cell_type": "markdown",
   "metadata": {},
   "source": [
    "> Note: To begin with, to remove all nan data, we use a function that replaces one sentence with another. This function is 'replace', and we replace everything that is nan with empty space."
   ]
  },
  {
   "cell_type": "code",
   "execution_count": 3,
   "metadata": {},
   "outputs": [],
   "source": [
    "baby_df['review']=baby_df['review'].astype(str) "
   ]
  },
  {
   "cell_type": "code",
   "execution_count": 4,
   "metadata": {},
   "outputs": [
    {
     "data": {
      "text/plain": [
       "True"
      ]
     },
     "execution_count": 4,
     "metadata": {},
     "output_type": "execute_result"
    }
   ],
   "source": [
    "#a)\n",
    "baby_df[\"review\"] = baby_df[\"review\"].apply(remove_punctuation)\n",
    "#short test: \n",
    "baby_df[\"review\"][4] == 'All of my kids have cried nonstop when I tried to ween them off their pacifier until I found Thumbuddy To Loves Binky Fairy Puppet  It is an easy way to work with your kids to allow them to understand where their pacifier is going and help them part from itThis is a must buy book and a great gift for expecting parents  You will save them soo many headachesThanks for this book  You all rock'\n",
    "remove_punctuation(baby_df[\"review\"][4]) == 'All of my kids have cried nonstop when I tried to ween them off their pacifier until I found Thumbuddy To Loves Binky Fairy Puppet  It is an easy way to work with your kids to allow them to understand where their pacifier is going and help them part from itThis is a must buy book and a great gift for expecting parents  You will save them soo many headachesThanks for this book  You all rock'"
   ]
  },
  {
   "cell_type": "markdown",
   "metadata": {},
   "source": [
    "> Note: Then, after converting all reviews to text type, we use the given function which removes all punctuation marks. we use the option offered by the pandas package - 'apply'"
   ]
  },
  {
   "cell_type": "code",
   "execution_count": 5,
   "metadata": {},
   "outputs": [],
   "source": [
    "#c)\n",
    "a = 0\n",
    "for x in baby_df[\"rating\"]:\n",
    "    \n",
    "    if x == 3:\n",
    "        baby_df.drop(index = a, inplace = True, axis=0)\n",
    "        a=a+1\n",
    "    else:\n",
    "        a=a+1\n",
    "        continue\n",
    "#short test:\n",
    "    sum(baby_df[\"rating\"] == 3)"
   ]
  },
  {
   "cell_type": "markdown",
   "metadata": {},
   "source": [
    "> Note: The next step is to remove the lines rated 3. To do this, we search the file for such lines and remove them using the usual for loop and the drop function"
   ]
  },
  {
   "cell_type": "code",
   "execution_count": 6,
   "metadata": {},
   "outputs": [],
   "source": [
    "#d)\n",
    "baby_df[\"rating\"].replace(1,-1, inplace = True)"
   ]
  },
  {
   "cell_type": "code",
   "execution_count": 7,
   "metadata": {},
   "outputs": [],
   "source": [
    "baby_df[\"rating\"].replace(4,1, inplace = True)"
   ]
  },
  {
   "cell_type": "code",
   "execution_count": 8,
   "metadata": {},
   "outputs": [],
   "source": [
    "baby_df[\"rating\"].replace(5,1, inplace = True)"
   ]
  },
  {
   "cell_type": "code",
   "execution_count": 9,
   "metadata": {},
   "outputs": [],
   "source": [
    "baby_df[\"rating\"].replace(2,-1, inplace = True)"
   ]
  },
  {
   "cell_type": "code",
   "execution_count": 10,
   "metadata": {},
   "outputs": [
    {
     "data": {
      "text/plain": [
       "0"
      ]
     },
     "execution_count": 10,
     "metadata": {},
     "output_type": "execute_result"
    }
   ],
   "source": [
    "#test\n",
    "baby_df.head(30)\n",
    "sum(baby_df[\"rating\"]**2 != 1)"
   ]
  },
  {
   "cell_type": "markdown",
   "metadata": {},
   "source": [
    "> Note: At the end of this task, we need to convert all scores above 3 to 1 and below 3 to -1. we do this with the 'replace' function we've used before, but this time we're replacing the numbers."
   ]
  },
  {
   "cell_type": "markdown",
   "metadata": {},
   "source": [
    "## Exercise 2 \n",
    "a) Split dataset into training and test sets.     \n",
    "b) Transform reviews into vectors using CountVectorizer. "
   ]
  },
  {
   "cell_type": "code",
   "execution_count": 11,
   "metadata": {},
   "outputs": [],
   "source": [
    "from sklearn.model_selection import train_test_split\n",
    "#a)\n",
    "train, test = train_test_split(baby_df, train_size=0.8, test_size=0.2)\n"
   ]
  },
  {
   "cell_type": "code",
   "execution_count": 12,
   "metadata": {},
   "outputs": [],
   "source": [
    "#b)\n",
    "vectorizer = CountVectorizer()\n",
    "\n",
    "x = vectorizer.fit_transform(list(train[\"review\"]))\n",
    "y = train[\"rating\"]\n",
    "x_test = vectorizer.transform(list(test[\"review\"]))\n",
    "y_test = test[\"rating\"]\n"
   ]
  },
  {
   "cell_type": "markdown",
   "metadata": {},
   "source": [
    "> Note: In the next task, we divide the data into test and training ones, and then we transform the words contained in the reviews into arrays of numbers (vectors). This will allow us, in a way, to teach the program to recognize certain properties of words by means of numbers"
   ]
  },
  {
   "cell_type": "markdown",
   "metadata": {},
   "source": [
    "## Exercise 3 \n",
    "a) Train LogisticRegression model on training data (reviews processed with CountVectorizer, ratings as they were).   \n",
    "b) Print 10 most positive and 10 most negative words."
   ]
  },
  {
   "cell_type": "code",
   "execution_count": 13,
   "metadata": {},
   "outputs": [
    {
     "name": "stderr",
     "output_type": "stream",
     "text": [
      "E:\\ProgramData\\Anaconda3\\lib\\site-packages\\sklearn\\linear_model\\_logistic.py:814: ConvergenceWarning: lbfgs failed to converge (status=1):\n",
      "STOP: TOTAL NO. of ITERATIONS REACHED LIMIT.\n",
      "\n",
      "Increase the number of iterations (max_iter) or scale the data as shown in:\n",
      "    https://scikit-learn.org/stable/modules/preprocessing.html\n",
      "Please also refer to the documentation for alternative solver options:\n",
      "    https://scikit-learn.org/stable/modules/linear_model.html#logistic-regression\n",
      "  n_iter_i = _check_optimize_result(\n"
     ]
    },
    {
     "data": {
      "text/plain": [
       "LogisticRegression(max_iter=300)"
      ]
     },
     "execution_count": 13,
     "metadata": {},
     "output_type": "execute_result"
    }
   ],
   "source": [
    "#a)\n",
    "model = LogisticRegression(max_iter=300)\n",
    "model.fit(x, y)\n"
   ]
  },
  {
   "cell_type": "code",
   "execution_count": 14,
   "metadata": {},
   "outputs": [
    {
     "name": "stdout",
     "output_type": "stream",
     "text": [
      "most positive words:  ['rich' 'penny' 'breeze' 'cleans' 'amazed' 'thankful' 'saves' 'minor'\n",
      " 'lifesaver' 'pleasantly']\n",
      "most negative words:  ['worst' 'dissapointed' 'disappointing' 'ineffective' 'worthless' 'nope'\n",
      " 'concept' 'theory' 'unusable' 'useless']\n"
     ]
    }
   ],
   "source": [
    "#b)\n",
    "zipped_coef = list(zip(list(range(model.coef_.shape[1])), model.coef_[0]))\n",
    "sorted_coef = sorted(zipped_coef, key= lambda v: v[1])\n",
    "sorted_coef = np.array(sorted_coef)\n",
    "sorted_coef_indexes = sorted_coef[:, 0].astype(int)\n",
    "words = np.array(vectorizer.get_feature_names_out())\n",
    "most_positive_words = words[sorted_coef_indexes[-10:]]\n",
    "most_negative_words = words[sorted_coef_indexes[:10]]\n",
    "print(\"most positive words: \", most_positive_words)\n",
    "print(\"most negative words: \", most_negative_words)\n",
    "#hint: model.coef_, vectorizer.get_feature_names()"
   ]
  },
  {
   "cell_type": "markdown",
   "metadata": {},
   "source": [
    "> Note: previously divided data, we now fit to the appropriate regression curve called logisticregression. This will allow us to teach the program to recognize negative and positive words by how these words appear in the table of numbers. The computer is taught that when the rating is -1, then the words in the review are rather negative, and it saves them."
   ]
  },
  {
   "cell_type": "markdown",
   "metadata": {},
   "source": [
    "## Exercise 4 \n",
    "a) Predict the sentiment of test data reviews.   \n",
    "b) Predict the sentiment of test data reviews in terms of probability.   \n",
    "c) Find five most positive and most negative reviews.   \n",
    "d) Calculate the accuracy of predictions."
   ]
  },
  {
   "cell_type": "code",
   "execution_count": 15,
   "metadata": {},
   "outputs": [
    {
     "data": {
      "text/plain": [
       "array([ 1,  1,  1, ...,  1, -1,  1], dtype=int64)"
      ]
     },
     "execution_count": 15,
     "metadata": {},
     "output_type": "execute_result"
    }
   ],
   "source": [
    "#a)\n",
    "model.predict(x_test)"
   ]
  },
  {
   "cell_type": "code",
   "execution_count": 16,
   "metadata": {},
   "outputs": [
    {
     "data": {
      "text/plain": [
       "array([[2.72812630e-02, 9.72718737e-01],\n",
       "       [8.05289169e-11, 1.00000000e+00],\n",
       "       [7.30837217e-03, 9.92691628e-01],\n",
       "       ...,\n",
       "       [2.78920950e-04, 9.99721079e-01],\n",
       "       [9.89992347e-01, 1.00076525e-02],\n",
       "       [1.15841037e-02, 9.88415896e-01]])"
      ]
     },
     "execution_count": 16,
     "metadata": {},
     "output_type": "execute_result"
    }
   ],
   "source": [
    "#b)\n",
    "probabilty = model.predict_proba(x_test)\n",
    "probabilty\n",
    "#hint: model.predict_proba()"
   ]
  },
  {
   "cell_type": "code",
   "execution_count": 17,
   "metadata": {},
   "outputs": [
    {
     "name": "stdout",
     "output_type": "stream",
     "text": [
      "most positive:  I bought this carrier when my daughter was about 4 weeks old shes now 10 weeks old  I had a Moby that I borrowed from a friend but could never quite get to work and my daughter hated being in it  I also have a Bjorn Active but she seemed pretty precarious in that when she was so littleThis carrier is nearly perfect for infants  Its not quite as easy to put on as the Bjorn but MUCH easier than the Moby and it gives that nice snug fit that the Moby did  Its much lighter weight than the Bjorn so its easier on my back  I have the khakicolored version so I havent had any problems with it showing dirt and dust  I wish the straps werent so long one size fits all but I just wrap them around to my back and tie them again loosely  Im 54 and 145 lbs  I think this carrier would fit most people  The fabric is thick and the construction seems to be of good quality It might be hot in hot weather but most carriers areThis has been a life saver  My daughter wont sleep anywhere except while being held  Now once shes feddiaperedetc and getting fussy ie needs to sleep I pop her in and walk around and sing  After a couple of minutes of fussing she is sound asleep sometimes for several hours  I can do a little light work around the house plus I can sit and type at the computer shes in the wrap right nowUpdate 812010my daughter is now almost 5 months old and this carrier still works great with her facing me for her naps  She now weighs about 15 lbs and its not bad for a couple hours of use especially if I can sit for part of the time  She starts to strain my back when I have to walk around with her for a couple of hours but less so than when she is forwardfacing in the Bjorn ActiveI have tried the faceout option and it works OK but I probable prefer to face her out in the Bjorn Active its quicker to put on  The Wrap and Tie is a little tall for her facing out so I have to try to scrunch down the front and I worry about her falling asleep and having her nose down in it  This carrier is definitely better than the Bjorn Active for facingin naps more support on the back of her neck so that her head doesnt flop around while shes sleeping  A friend is sending me her Ergo so I will compare all three once Ive tried itUpdate 8252010Once I got the Ergo I stopped using the Wrap and Tie  Both hold the baby snug and close to me facing in for sleeping  The Ergo is super easy to put on and great for my back  I am now an Ergo convertIn summary1 Infantino Wrap and Tie  Pros  Great for little ones facing in for sleeping  Easier to put on than the Moby and yet keeps baby nice and snug  Can face baby out  Sturdy  Cheap cheaper than other mei tai style carriers  Not bad on my back  Can ball it up and shove it in the diaper bag  Cons  harder to put on than BjornErgo not as good as the Bjorn for facing out not as good on the back as the Ergo2 Baby Bjorn I have the Bjorn Active Pros  My baby LOVES facing out when awake and this is handsdown the best carrier for that  I put up with back pain to keep my baby happy  Cons Not as good as the Wrap and Tie or Ergo for facing insleeping  Hurts my back to wear it for long baby now 15 lbs  Expensive3 Ergo Pros  Quick and easy to put on perfect for baby facing insleeping cute little hood to put over her head to block out light while sleeping AWESOME for my back  Cons  Expensive baby cant face out  My baby doesnt much like facing in while awake but shes getting used to itWhen I go out I usually take both the Ergo and the Bjorn with me in the car and then pick whichever one is appropriate for my baby at the moment  If you have enough cash to drop on both or better yet can get them used or handmedown get both and skip the Wrap and Tie  If you only have enough  for one carrier the Wrap and Tie might workfinal updateothers have commented on the babys face being smushed into their chest in the facingin position  I havent had a problem with this but I frequently check my babys neck position to make sure that her chin is tilted up a bit and her nose is pointing up a bit  Its easy to look down at her and reposition her head when appropriate  Also I usually have her in with the binky in her mouth which keeps her face off my chest as well\n",
      "\n",
      " most negative:  I have rated and left reviews for many items on Amazon over the years I typically only review 4 and 5star products I liked and can recommend to others This is the first time I have ever rated something as 1 star But unfortunately this product is that badIn fairness I did not buy this from Amazon I bought it at a discount store and it was marked on asis clearance Im typically a DIY kind of person but were taking a twoday road trip with my 2 yr old this week so I spotted this thought it was a good price and bought it knowing full well that I could not return it I just trusted that it would work or at the very least that I could perform some kind of hack to make it work if it didntI liked that it seemed very kidfriendly and kidsafe could be propped up to a stand and that I could even hang from the headrest of the seat in front if I wanted to hanging from the headrest was not suggested as a use for the product but I quickly discovered that this would work if I removed the headrest and slipped the loop through the prongs and stuck it back on When I got home though I could not get my 1st generation iPad the one that I usually share with my daughter to fit into the case no matter how hard I tried The product description states that it fits all three generation IPads which I assumed to mean the first three generations My husband has a 3rd gen iPad from work and it did not fit either I dont know if maybe a 2nd or 4th gen would fit But 1st and 3rd do not and the larger 1st gen DEFINITELY doesntBeing the DIYer that I am though I decided to cut slits in the corners of the foam case so that maybe I could get the iPad to fit After probably close to an hour of fiddling with it and even cutting a deeper groove into the base of the foam and carefully using a butter knife to help with leverage I came to the unfortunate conclusion that there is no way on earth that my 1st gen iPad is ever going to fit into this thing Before trashing the thing though I decided to try my husbands 3rd gen Now with the corner slits I could get the 3rd gen iPad to barely fit with much difficulty still but it at least it barely fit I may see if my husband is willing to let our daughter use his iPad in the case for the trip instead of hers but I dont know if hell go for that Well see If not this item is pure trash Oh and another important note There is NO cutout in the foam case for the charger Supposedly they claim this is for 34safety34 but how safe do you need this thing My daughter already regularly uses the iPad with another case that has full exposure to the charging area and she has never once even considered sticking something in there She knows she has to be super careful with the ipad or else it gets taken away Its a nonissue with us But the thought of once you go through all the hassle of getting the ipad into the case having to pry it back out in order to charge and then wrangle it back it in is NOT worth it As if anything else of this product had been worth itSo overall please trust me as someone who never leaves bad reviews on products and genuinely tried everything I could to make this work for me before conceding  DO NOT BUY THIS PRODUCT Do not give it as a gift to someone Do not put it on a baby registry Do not even buy it in a garage sale for a buck Its not worth it\n"
     ]
    }
   ],
   "source": [
    "#c) \n",
    "print(\"most positive: \", test.iloc[probabilty.T[1].argmax()][\"review\"])\n",
    "print(\"\\n most negative: \", test.iloc[probabilty.T[0].argmax()][\"review\"])\n",
    "#hint: use the results of b)"
   ]
  },
  {
   "cell_type": "code",
   "execution_count": 18,
   "metadata": {},
   "outputs": [
    {
     "data": {
      "text/plain": [
       "0.9306167731102516"
      ]
     },
     "execution_count": 18,
     "metadata": {},
     "output_type": "execute_result"
    }
   ],
   "source": [
    "#d) \n",
    "model.score(x_test, y_test)"
   ]
  },
  {
   "cell_type": "markdown",
   "metadata": {},
   "source": [
    "> Note: Based on the activities in task 4, we now look for the opinion with the most positive words, and vice versa, the most negative words. at the end we see how accurate our wiring is. It is very good because it is as much as 93%"
   ]
  },
  {
   "cell_type": "markdown",
   "metadata": {},
   "source": [
    "## Exercise 5\n",
    "In this exercise we will limit the dictionary of CountVectorizer to the set of significant words, defined below.\n",
    "\n",
    "\n",
    "a) Redo exercises 2-5 using limited dictionary.   \n",
    "b) Check the impact of all the words from the dictionary.   \n",
    "c) Compare accuracy of predictions and the time of evaluation."
   ]
  },
  {
   "cell_type": "code",
   "execution_count": 19,
   "metadata": {},
   "outputs": [],
   "source": [
    "significant_words = ['love','great','easy','old','little','perfect','loves','well','able','car','broke','less','even','waste','disappointed','work','product','money','would','return']"
   ]
  },
  {
   "cell_type": "code",
   "execution_count": 20,
   "metadata": {},
   "outputs": [],
   "source": [
    "#a)\n",
    "vectorizer_small = CountVectorizer(vocabulary=significant_words)\n",
    "\n",
    "x_small = vectorizer_small.fit_transform(list(train[\"review\"]))\n",
    "y_small = train[\"rating\"]\n",
    "x_test_small = vectorizer_small.transform(list(test[\"review\"]))\n",
    "y_test_small = test[\"rating\"]"
   ]
  },
  {
   "cell_type": "code",
   "execution_count": 21,
   "metadata": {},
   "outputs": [
    {
     "name": "stdout",
     "output_type": "stream",
     "text": [
      "most positive:  Ive posted an UPDATE at the endFirst let me state that I have been buying products from Amazon for the past 12 years  I love Amazon  I love the reviews because they have always played a part sometimes more sometimes less in the products I decide to purchase  For some reason I have never left a review I know  Until now  I feel such an urge to express how much my husband and I love this strollerMy first son will turn 7 next month  We purchased an Evenflo strollercar seat travel system for him in 2005  We hated it  We used the car seat but never EVER used the stroller  It was big bulky heavy and a pain in the rear  I think my husband hated it even more than I did  I wore my first son everywhere instead of putting him in a stroller  Fast forward to 6 years later and we have our second son in September of 2011  I researched for months  I wanted to find a stroller that had several qualities  Looks  As shallow as it may seem I wanted a stroller that wasnt ugly  I wasnt interested in any fancy or cutesy designs on the fabric  I wanted simple and sleek  I wanted something that my husband would not mind pushing around either  Weight  I wanted something that was not super heavy  QualityDurability  I was looking for something that would hold up through months and months of theme park visits and ultimately through daily runs  Ease  Meaning that I wanted it to fold easily and be a stroller that I could easily put in and out of my car without looking like my back was going to give out and I would collapse   Price  I wanted something under 100  I find that the more expensive a stroller is the sleeker it looks a shame that more less expensive strollers arent more attractive  I wanted the look and the quality for under 100  Able to use with a Graco car seat  I knew I did not really want to purchase another combo travel system of any kind really  Canopy  Needed a bigger one to protect from the FL sunSo with these key things in mind I researched for hours upon hours for the last couple months of my pregnancy  I still held off  I wanted to make the right purchase and not settle for another crap stroller that would be a huge disappointment  When my son was a month old I pulled the trigger and purchased the Joovy Scooter Stroller in Greenie  BEST DECISION EVER  We live in Florida  Below the freeze line in FL  an hour south of Tampa on the water  Here is my take on the Pros and Cons of the Joovy  I hope it might help out someone else who is on the fencePROs1  Cost  9999  True it was just one penny shy of my limit I set  But it was under  I had a giftcard from a family member so the stroller really only cost me 4999  A steal2  Assembly  This was almost totally assembled when I received it  It has been about 8 months since I purchased this so my memory may fail me on the exact details of the assemblybut I seem to remember only installing the brake bar and the wheels others may recall more but the fact is that it was super easy overall and I did not need to wait for the assistance of my husband  I noticed right away that I was lacking the right size hub cap for one of the back wheels  This is only a cosmetic feature  It does not in any way mess with how the stroller would function but still I felt that I should call the Joovy customer service to inquire  I dont remember waiting at all on hold  The lady I spoke to was super friendly and practically no questions asked she Fed Exed me a couple of hub caps for free  I got them in a couple of days3  Ease  It does take both hands to fold the stroller up but it is super easy after getting the hang of it  It only took me a couple of tries before I became a pro  No struggling in parking lots looking like the stressed out parent that wants to pull an Office Space on the stroller with a bat  There was an Up All Night episode that dealt with beating a stroller to pieces in a parking lot  I think all of us as parents have been there at one point or another with some piece of baby equipment  It unfolds so easily its ridiculous  I love it  You just pull the handles up and thats that4  Maneuverability  Some people had mentioned that they wish the wheels werent plastic  It is true that they are indeed plastic  But I have never had a problem with them  My stroller feels like its gliding on ice for the most part  Only a couple of times have the wheels gotten stucktangledwhatever  I would not even consider this an issue but felt it was worth a mention at least Seriously in 8 months it may have happened twice  Thats it And this stroller has had a LOT of mileage5  The handles  There seems to be a discussion about the handles being rough  My husband nor I have EVER had an issue with this  The handles are great  We live 1 hour and 15 minutes away from Disney World and had annual passes  We went at least two weekends a month spending 12 hours a day at the parks  We just purchased annual passes to Universal recently and spend just as much time there  We have never received a blister from the handles and never felt that they were rough  They have a nice secure grip making it easy to maneuver through crowds and onehanded love the design of the handles  I am not exaggerating when I say we spend 12 hour days at the parks  The stroller makes it such a breeze  I also wear my baby some in the Ergo Performance in Spring Green also purchased off Amazon the green color is a pretty close match to this stroller for anyone wondering but he really loves this stroller  I also run at the park 5 or 6 times a week with this stroller  No it is not listed as a jogging stroller but it works perfectly for me  I run anywhere from 14 miles at a time each day and have never had an issue  I run mostly with only one hand on the handles and it turns beautifully as I run6  Durability  What can I say  I think Ive already said it all  This stroller has held up wonderfully throughout all of our theme park adventures and through each of my morning runs at the park  I have no complaints7  Looks  I have to say this stroller is beautiful  I adore it  It is sleek modern slim but durable  The Greenie color is GORGEOUS its my favorite color And I can find it easily at the theme parks8  Basket  There is PLENTY of storage underneath in the oversized basket  We can fit a big diaper bag blankets toys a purse and more9  Reclining  The seat reclines very easily  If you recline it as far back as it will go it makes changing diapers easy  When my son is awake and wants to look around I put him in the high back seating position  If he wants to sleep I just recline  Not much to it  Pretty simple and easy10 Car Seat  I had no problems at all attaching our Graco car seat to this stroller when my son was younger no car seat adapter needed  We dont need to do this anymore but it worked great when we did11 Weight  It is still a little heavy but honestly I have no problem lifting it in and out of my Element or my husbands Accord  It folds up nicely and lies pretty flat  Im 55 and 115 lbs  I have no problem lifting this  Its hard to explain without you seeing it in person but the stroller is pretty slim  It is not bulky like most12  Foot brakes  I have never had a problem with my feet hitting the brakes even on all my runs  Neither has my husband he is 6 tall  The brake works great as it should13  Foot Rest  This is a cool feature for the little one14  The CANOPY  The canopy on this is AMAZING  It is super large  I love it  Like Ive already mentioned we are in the FL heat all year long  This canopy is awesome at keeping my little guy protected from too much sun  I also like the clear window I can look through at him which I like to do when I am running to see if he fell asleep or not 15 Extra pockets  There are side pockets for your little one to store extra toys or as I do I put his bottles there and take them out as he needs them  There is also a large zippered pocket on the back of the stroller16  Cup Holder  I rarely use the cup holder as a cup holder  I usually use it to hold my phone as I run but it does have a cup holder17  The fabric  Love it  It has not faded even in the FL sun  It is comfortable for my son and easy for me to wipe up or to shake the sand off as we have lots of beach visits  While I wouldnt consider this the best stroller to push through sand we have done it  We live where the beaches are super soft sand so you have to pop a wheelie with the front wheels being totally air borne to push it through but we have done it several times  Also the rain seems to roll right off the fabric mostly  The fabric comes off for washing too18 Extras  My son LOVES propping his foot up on the bar as we stroll while Im walking or running with him  Also we love the super padded cushions on the buckles for his chest  And this buckles in such a way that would be harder for a toddler to figure out I would think but super easy for parentsCONsI dont have any  The only con is not buying this You cant beat the quality for the money hereThis is my favorite stroller I have ever used  My husband agrees  It is so easy to push along on flat or bumpy surfaces  I recommend this to all of my friends that are having babies  This was my very best purchase this time around  We have been so happy with it and our 9 month old son also seems to enjoy itUPDATE 91412  Im now successfully running over 6 miles at a time with my baby almost 1 year old boy in this stroller I run a minimum of 3 milesday 5 days a week but I have one longer run each week also I love it  The wheels have had a LOT of mileage on them and they have held up quite well so far at some point I might have to replace them as I am constantly upping my mileage  So far in the 14 days in September I have run over 42 miles and walked over 25 miles while pushing this Joovy  I dont understand the rough handles comments at all  Ive never ever had a blister or any complaints about the handles  They work out so well for me when I run because they give me great control mostly I run with only one hand on the handles  Also I get so many compliments on the looks of this stroller\n",
      "\n",
      "most negative:  I am a researchaholic in general and have researched many different baby products over the past 5 years due to being a mother of 3 and wanting to get the best for the price and not wanting to settle for less  I live in the Northeast US so it gets really cold and the weather changes frequently and in extremes on a daily if not hourly basis  Anyway here are the brands Ive usedowed andor researched extensively and the comparisonsJolly Jumper Arctic Sneak A Peek Infant Car Seat Cover JJAJolly Jumper Sneak A Peek Infant Car Seat Cover JJSummer Infant Poshpouch SPCozy Car Seat Microfiber and Fleece Cover CCBabys Cozy World Microfiber  Fleece Carrier Cover BC yes the CC and the BC are differentJJ Cole infantoriginal bundle me JJCJJ Cole toddler bundle me  JJTOKJolly Jumper Artic JJA is awesome I would rate it the best one out of all  It is a shower cap cover for the infant car seat it has a blanket inside that you can velcro closed to keep the babys face covered and warm and you can velcro it up to stay open when the baby when you put the baby in the car out of weathers elements  It has two zippers which allow you to open the carrier and easily access the baby keep the baby from over heating and you can also flap the middle piece down to keep it completely off the baby  The blanket is a nice feature of this cover  You can use it alone with the flap open on a warmer day and you can also flap it down away from the baby as well when not in use  Another nice thing about the blanket is you can wrap it around baby to keep them warm there is enough material on both sides to do this  Some reviewers of this and other carriers stated that there were gaps around the handle this is true of mostly all the shower cap covers except you can adjust it to cover these gaps  Also you can take the wrap around blanket and cover the baby as well as feed it through the gaps on the sides to close them if the cover cannot be adjusted to fit around the bottom to close that area  The outer portion is nylon like a jacket and it is waterproof the fleece is substantial and it keeps the infant very warm This is an expensive carrier but well worth the money  This is top notchJolly Jumper is just like the carrier described above but without the attached blanket  Again overall an excellent carrier  It is not that much less than the JJA and no matter what climate I would pay the extra money for the JJA just because you can use the blanket alone with the flap of the outer portion of the JJ out and it is a very nice feature to have in the coverSummer Infant Poshpouch SP is another shower cap cover for the infant carseat but it has an opening in the top with no flap to velcro over babys face  I owned this before the JJA and here are some differences  It is a much thinner material the fleece isnt as substantial and the outer portion is not waterproof or nylon but a fleece polyester material  The opening is rather large and I felt as though breezeswind would go right through the hole and it is definitely not as effective in making the baby too warm esp in colder conditions  To remedy this problem I put a blanket on under the cover and the baby seemed better on 30 degree days from the house to the car but not to take a walk  I also had to put a hat and make sure the blanket was high on baby to cover the babys neck or use something to make sure babys neck was covered due to the hole being so big  It also gaps more on the side then the JJA and the JJ  The SP only has one zipper to unzip the baby when inside  And when you want to keep the baby inside the carrier you really have to take the whole thing off to leave the baby in to not be covered  And it is hard to get the baby out without pushing it asideAND MOST IMPORTANTLY  PLEASE SEE  it was very scary when I discovered that when you place it on correctly and put it over the infant carseat I would put my infant carseat into the holster and it WOULD NOT I repeat WOULD NOT lATCH INTO THE BASE  There was no way of knowing this unless you checked I check my baby each time to make sure the carseat is latched in just by habit but it would not even be partially latched just completely unlatched  I felt this was unacceptable  Even when I tried to adjust it by pulling the bottom portion where the babys feet would be up the cover bc of the elastic would just come up bunch and be partially off with a gap under the babys feet so I feel this carrier is a COMPLETE WASTE OF MONEY  I paid 23 the cost of the JJACozy Car Seat Microfiber and Fleece Cover CC A lot of people think this is the BC and it is the same price but it is not  It is a cheap spin off of the BC even though it is the same price  The fabric is less substantial it is honestly more like the SP  Not worth the money and dont make the mistake of getting itBabys Cozy World Microfiber  Fleece Carrier Cover BC Is BABYS COZY WORLD uses a type of microfiber called microsuede which is a soft fabric made from synthetic fibers that are an imitation to suede  It seems like it is a good bang for your buck coming in around twenty dollars which is half of the JJA  The only thing is if you live in a really rainy climate I dont think it would be as waterproof being microsuede as the JJ or the JJA material  Another reviewer stated that the BABYS COZY WORLD is reversible which I am not sure how it can be reversible deeming that it does have a flap that goes over the infants face like the CC JJA and JJThe reviewer also stated that the BC has pacifier clips which would be a nice feature for toys as well and that is is very thick for all weather and it is the same price as the CC  ONE THING that many reviews said about the CC and the BC is that the zippers can be dangerous bc they line up in the same place as a newborns eyes and have the potential for scratching the cornea  With the JJ and the JJA the zippers do not seem as though they would reach this far  Maybe the CC and the BC have larger zippers that might spin around in opposite directions esp if it is reversible  It does have the zippers on both sides to unzip and expose the infant nicely when inside and do not want the infant to overheat while in the carrier  For the price this seems like it would be a good carrier as well and I would rate the the BC a close second and very comparable to the JJ but does not have a blanket feature like the JJAJJ Cole infantoriginal bundle me JJCis what I owned with my first child who was a premature infant and I only got about 7 months of use out of this cover  That is why I got the toddler JJ cole after  It is a different type of carrier than all the others that are reviewed above being that it is not a shower cap style it has an underside to the carrier that is placed under the harness straps and then a layer goes over the baby and is zippered down and around the bottom  FIRST OF ALL THIS IS DANGEROUS which I never knew as a new mom and why they even CAN SELL them as carseat covers is beyond me because if you get into an accident it compresses under the infant because of the added bulk between the seat and the child it is like the infant is wearing a jacket so there is more room in between the harness and the infant deeming it unsafe  Also JJ cole now has the lite JJ cole and says that it passed crash tests but The Bundle me Lites openings do not come anywhere near the hip straps of the harness meaning they would be improperly routed thus creating slack  Here is a picture  No certified carseat technicians recommend this aftermarket product for the carseat  Any many if not all carseat companies state if an aftermarket product is used inside the carseat between the harness and baby it will void all guarantees for safety  NOT GOODJJ Cole toddler JJT  Had this mostly with my first child and second and would not use now dt the same reason above with the JJ  But it could be nice with a stroller  The only thing is you do need a hat and something to cover the babys neck as wellIn summary1The Jolly Jumper Artic JJA wins the race I am very very please with this product esp the blanket aspect that I think is well worth itThe JJ is basically the same product as the JJA but without the blanket2The Babys Cozy World Microfiber  Fleece Carrier Cover BC but make sure it is the BC and not the CC when you purchase it comes in a close second esp for the priceHope this review is helpful to you and you now wont have to go through the countless hours of research and will be getting a great product while not wasting any of your time or money on another worthless baby item\n"
     ]
    },
    {
     "data": {
      "text/plain": [
       "0.8691193667356301"
      ]
     },
     "execution_count": 21,
     "metadata": {},
     "output_type": "execute_result"
    }
   ],
   "source": [
    "light_model = LogisticRegression()\n",
    "light_model.fit(x_small, y_small)\n",
    "proba = light_model.predict_proba(x_test_small)\n",
    "print(\"most positive: \", test.iloc[proba.T[1].argmax()][\"review\"])\n",
    "print(\"\\nmost negative: \", test.iloc[proba.T[0].argmax()][\"review\"])\n",
    "light_model.score(x_test_small, y_test_small)"
   ]
  },
  {
   "cell_type": "code",
   "execution_count": 22,
   "metadata": {},
   "outputs": [
    {
     "name": "stdout",
     "output_type": "stream",
     "text": [
      "love: 1.336909553322155\n",
      "great: 0.9439165834073582\n",
      "easy: 1.1664946159572254\n",
      "old: 0.09168341171984339\n",
      "little: 0.5248100522635891\n",
      "perfect: 1.4840461447654407\n",
      "loves: 1.7223506058873077\n",
      "well: 0.47926397818647054\n",
      "able: 0.17853042160875093\n",
      "car: 0.06618297881090734\n",
      "broke: -1.6893839868079454\n",
      "less: -0.19549720366131643\n",
      "even: -0.5191186596169239\n",
      "waste: -1.9784982432871683\n",
      "disappointed: -2.3425581013725556\n",
      "work: -0.6295910734371036\n",
      "product: -0.3228301652958991\n",
      "money: -0.9346580342589789\n",
      "would: -0.3514051279329479\n",
      "return: -2.042561654572022\n"
     ]
    }
   ],
   "source": [
    "#b)\n",
    "for word, coef in zip(vectorizer_small.get_feature_names_out(), light_model.coef_[0]):\n",
    "    print(f\"{word}: {coef}\")"
   ]
  },
  {
   "cell_type": "markdown",
   "metadata": {},
   "source": [
    "> Note: Once again, we teach our program to recognize the right words, but using a kind of dictionary that we have given. Due to the fact that the number of words given in the list is smaller than the total number, we assume that the accuracy of the predictions will be lower. At the end, we also look at the strength or weight of a given word."
   ]
  },
  {
   "cell_type": "code",
   "execution_count": 23,
   "metadata": {},
   "outputs": [
    {
     "name": "stdout",
     "output_type": "stream",
     "text": [
      "light model achieves 0.8691193667356301\n",
      "standard model achieves 0.9306167731102516\n"
     ]
    }
   ],
   "source": [
    "#c)\n",
    "print(f\"light model achieves {light_model.score(x_test_small, y_test_small)}\")\n",
    "print(f\"standard model achieves {model.score(x_test, y_test)}\")"
   ]
  },
  {
   "cell_type": "code",
   "execution_count": 24,
   "metadata": {},
   "outputs": [],
   "source": [
    "import sys, time"
   ]
  },
  {
   "cell_type": "code",
   "execution_count": 33,
   "metadata": {},
   "outputs": [
    {
     "name": "stdout",
     "output_type": "stream",
     "text": [
      "645 µs ± 7.29 µs per loop (mean ± std. dev. of 7 runs, 1,000 loops each)\n",
      "CPU times: total: 2.72 s\n",
      "Wall time: 5.21 s\n"
     ]
    }
   ],
   "source": [
    "%%time\n",
    "%%timeit\n",
    "light_model.predict(x_test_small)"
   ]
  },
  {
   "cell_type": "code",
   "execution_count": 34,
   "metadata": {},
   "outputs": [
    {
     "name": "stdout",
     "output_type": "stream",
     "text": [
      "9.88 ms ± 933 µs per loop (mean ± std. dev. of 7 runs, 100 loops each)\n",
      "CPU times: total: 3.3 s\n",
      "Wall time: 7.88 s\n"
     ]
    }
   ],
   "source": [
    "%%time\n",
    "%%timeit\n",
    "model.predict(x_test)"
   ]
  },
  {
   "cell_type": "markdown",
   "metadata": {},
   "source": [
    "> Note: We compare the accuracy of both solutions. It turns out that in fact the method with the array given before executing the function has less accuracy, but not great. So we are loosing 6% of accuracy executing code 14 times faster."
   ]
  }
 ],
 "metadata": {
  "anaconda-cloud": {},
  "kernelspec": {
   "display_name": "Python 3 (ipykernel)",
   "language": "python",
   "name": "python3"
  },
  "language_info": {
   "codemirror_mode": {
    "name": "ipython",
    "version": 3
   },
   "file_extension": ".py",
   "mimetype": "text/x-python",
   "name": "python",
   "nbconvert_exporter": "python",
   "pygments_lexer": "ipython3",
   "version": "3.9.12"
  },
  "toc": {
   "base_numbering": 1,
   "nav_menu": {},
   "number_sections": true,
   "sideBar": true,
   "skip_h1_title": false,
   "title_cell": "Table of Contents",
   "title_sidebar": "Contents",
   "toc_cell": false,
   "toc_position": {
    "height": "calc(100% - 180px)",
    "left": "10px",
    "top": "150px",
    "width": "384px"
   },
   "toc_section_display": true,
   "toc_window_display": true
  }
 },
 "nbformat": 4,
 "nbformat_minor": 4
}
