{
 "cells": [
  {
   "cell_type": "code",
   "execution_count": 1,
   "metadata": {},
   "outputs": [
    {
     "data": {
      "text/html": [
       "<div>\n",
       "<style scoped>\n",
       "    .dataframe tbody tr th:only-of-type {\n",
       "        vertical-align: middle;\n",
       "    }\n",
       "\n",
       "    .dataframe tbody tr th {\n",
       "        vertical-align: top;\n",
       "    }\n",
       "\n",
       "    .dataframe thead th {\n",
       "        text-align: right;\n",
       "    }\n",
       "</style>\n",
       "<table border=\"1\" class=\"dataframe\">\n",
       "  <thead>\n",
       "    <tr style=\"text-align: right;\">\n",
       "      <th></th>\n",
       "      <th>name</th>\n",
       "      <th>review</th>\n",
       "      <th>rating</th>\n",
       "    </tr>\n",
       "  </thead>\n",
       "  <tbody>\n",
       "    <tr>\n",
       "      <th>0</th>\n",
       "      <td>Planetwise Flannel Wipes</td>\n",
       "      <td>These flannel wipes are OK, but in my opinion ...</td>\n",
       "      <td>3</td>\n",
       "    </tr>\n",
       "    <tr>\n",
       "      <th>1</th>\n",
       "      <td>Planetwise Wipe Pouch</td>\n",
       "      <td>it came early and was not disappointed. i love...</td>\n",
       "      <td>5</td>\n",
       "    </tr>\n",
       "    <tr>\n",
       "      <th>2</th>\n",
       "      <td>Annas Dream Full Quilt with 2 Shams</td>\n",
       "      <td>Very soft and comfortable and warmer than it l...</td>\n",
       "      <td>5</td>\n",
       "    </tr>\n",
       "    <tr>\n",
       "      <th>3</th>\n",
       "      <td>Stop Pacifier Sucking without tears with Thumb...</td>\n",
       "      <td>This is a product well worth the purchase.  I ...</td>\n",
       "      <td>5</td>\n",
       "    </tr>\n",
       "    <tr>\n",
       "      <th>4</th>\n",
       "      <td>Stop Pacifier Sucking without tears with Thumb...</td>\n",
       "      <td>All of my kids have cried non-stop when I trie...</td>\n",
       "      <td>5</td>\n",
       "    </tr>\n",
       "    <tr>\n",
       "      <th>5</th>\n",
       "      <td>Stop Pacifier Sucking without tears with Thumb...</td>\n",
       "      <td>When the Binky Fairy came to our house, we did...</td>\n",
       "      <td>5</td>\n",
       "    </tr>\n",
       "    <tr>\n",
       "      <th>6</th>\n",
       "      <td>A Tale of Baby's Days with Peter Rabbit</td>\n",
       "      <td>Lovely book, it's bound tightly so you may not...</td>\n",
       "      <td>4</td>\n",
       "    </tr>\n",
       "    <tr>\n",
       "      <th>7</th>\n",
       "      <td>Baby Tracker&amp;reg; - Daily Childcare Journal, S...</td>\n",
       "      <td>Perfect for new parents. We were able to keep ...</td>\n",
       "      <td>5</td>\n",
       "    </tr>\n",
       "    <tr>\n",
       "      <th>8</th>\n",
       "      <td>Baby Tracker&amp;reg; - Daily Childcare Journal, S...</td>\n",
       "      <td>A friend of mine pinned this product on Pinter...</td>\n",
       "      <td>5</td>\n",
       "    </tr>\n",
       "    <tr>\n",
       "      <th>9</th>\n",
       "      <td>Baby Tracker&amp;reg; - Daily Childcare Journal, S...</td>\n",
       "      <td>This has been an easy way for my nanny to reco...</td>\n",
       "      <td>4</td>\n",
       "    </tr>\n",
       "    <tr>\n",
       "      <th>10</th>\n",
       "      <td>Baby Tracker&amp;reg; - Daily Childcare Journal, S...</td>\n",
       "      <td>I love this journal and our nanny uses it ever...</td>\n",
       "      <td>4</td>\n",
       "    </tr>\n",
       "    <tr>\n",
       "      <th>11</th>\n",
       "      <td>Baby Tracker&amp;reg; - Daily Childcare Journal, S...</td>\n",
       "      <td>This book is perfect!  I'm a first time new mo...</td>\n",
       "      <td>5</td>\n",
       "    </tr>\n",
       "    <tr>\n",
       "      <th>12</th>\n",
       "      <td>Baby Tracker&amp;reg; - Daily Childcare Journal, S...</td>\n",
       "      <td>I originally just gave the nanny a pad of pape...</td>\n",
       "      <td>4</td>\n",
       "    </tr>\n",
       "    <tr>\n",
       "      <th>13</th>\n",
       "      <td>Baby Tracker&amp;reg; - Daily Childcare Journal, S...</td>\n",
       "      <td>I thought keeping a simple handwritten journal...</td>\n",
       "      <td>3</td>\n",
       "    </tr>\n",
       "    <tr>\n",
       "      <th>14</th>\n",
       "      <td>Nature's Lullabies First Year Sticker Calendar</td>\n",
       "      <td>Space for monthly photos, info and a lot of us...</td>\n",
       "      <td>5</td>\n",
       "    </tr>\n",
       "    <tr>\n",
       "      <th>15</th>\n",
       "      <td>Nature's Lullabies First Year Sticker Calendar</td>\n",
       "      <td>I bought this calender for myself for my secon...</td>\n",
       "      <td>4</td>\n",
       "    </tr>\n",
       "    <tr>\n",
       "      <th>16</th>\n",
       "      <td>Nature's Lullabies First Year Sticker Calendar</td>\n",
       "      <td>I love this little calender, you can keep trac...</td>\n",
       "      <td>5</td>\n",
       "    </tr>\n",
       "    <tr>\n",
       "      <th>17</th>\n",
       "      <td>Nature's Lullabies Second Year Sticker Calendar</td>\n",
       "      <td>This was the only calender I could find for th...</td>\n",
       "      <td>5</td>\n",
       "    </tr>\n",
       "    <tr>\n",
       "      <th>18</th>\n",
       "      <td>Nature's Lullabies Second Year Sticker Calendar</td>\n",
       "      <td>I completed a calendar for my son's first year...</td>\n",
       "      <td>4</td>\n",
       "    </tr>\n",
       "    <tr>\n",
       "      <th>19</th>\n",
       "      <td>Nature's Lullabies Second Year Sticker Calendar</td>\n",
       "      <td>We wanted to get something to keep track of ou...</td>\n",
       "      <td>5</td>\n",
       "    </tr>\n",
       "    <tr>\n",
       "      <th>20</th>\n",
       "      <td>Nature's Lullabies Second Year Sticker Calendar</td>\n",
       "      <td>I had a hard time finding a second year calend...</td>\n",
       "      <td>5</td>\n",
       "    </tr>\n",
       "    <tr>\n",
       "      <th>21</th>\n",
       "      <td>Nature's Lullabies Second Year Sticker Calendar</td>\n",
       "      <td>I only purchased a second-year calendar for my...</td>\n",
       "      <td>2</td>\n",
       "    </tr>\n",
       "    <tr>\n",
       "      <th>22</th>\n",
       "      <td>Nature's Lullabies Second Year Sticker Calendar</td>\n",
       "      <td>I LOVE this calendar for recording events of m...</td>\n",
       "      <td>5</td>\n",
       "    </tr>\n",
       "    <tr>\n",
       "      <th>23</th>\n",
       "      <td>Nature's Lullabies Second Year Sticker Calendar</td>\n",
       "      <td>Calendar is exactly as described, but I find t...</td>\n",
       "      <td>3</td>\n",
       "    </tr>\n",
       "    <tr>\n",
       "      <th>24</th>\n",
       "      <td>Nature's Lullabies Second Year Sticker Calendar</td>\n",
       "      <td>Wife loves this calender. Comes with a lot of ...</td>\n",
       "      <td>5</td>\n",
       "    </tr>\n",
       "    <tr>\n",
       "      <th>25</th>\n",
       "      <td>Nature's Lullabies Second Year Sticker Calendar</td>\n",
       "      <td>My daughter had her 1st baby over a year ago. ...</td>\n",
       "      <td>5</td>\n",
       "    </tr>\n",
       "    <tr>\n",
       "      <th>26</th>\n",
       "      <td>Baby's First Journal - Green</td>\n",
       "      <td>Extremely useful! As a new mom, tired and inex...</td>\n",
       "      <td>5</td>\n",
       "    </tr>\n",
       "    <tr>\n",
       "      <th>27</th>\n",
       "      <td>Lamaze Peekaboo, I Love You</td>\n",
       "      <td>My son loves peek a boo at this age of 9 month...</td>\n",
       "      <td>3</td>\n",
       "    </tr>\n",
       "    <tr>\n",
       "      <th>28</th>\n",
       "      <td>Lamaze Peekaboo, I Love You</td>\n",
       "      <td>One of baby's first and favorite books, and it...</td>\n",
       "      <td>4</td>\n",
       "    </tr>\n",
       "    <tr>\n",
       "      <th>29</th>\n",
       "      <td>Lamaze Peekaboo, I Love You</td>\n",
       "      <td>I like how the book has a hook to attach it to...</td>\n",
       "      <td>5</td>\n",
       "    </tr>\n",
       "  </tbody>\n",
       "</table>\n",
       "</div>"
      ],
      "text/plain": [
       "                                                 name  \\\n",
       "0                            Planetwise Flannel Wipes   \n",
       "1                               Planetwise Wipe Pouch   \n",
       "2                 Annas Dream Full Quilt with 2 Shams   \n",
       "3   Stop Pacifier Sucking without tears with Thumb...   \n",
       "4   Stop Pacifier Sucking without tears with Thumb...   \n",
       "5   Stop Pacifier Sucking without tears with Thumb...   \n",
       "6             A Tale of Baby's Days with Peter Rabbit   \n",
       "7   Baby Tracker&reg; - Daily Childcare Journal, S...   \n",
       "8   Baby Tracker&reg; - Daily Childcare Journal, S...   \n",
       "9   Baby Tracker&reg; - Daily Childcare Journal, S...   \n",
       "10  Baby Tracker&reg; - Daily Childcare Journal, S...   \n",
       "11  Baby Tracker&reg; - Daily Childcare Journal, S...   \n",
       "12  Baby Tracker&reg; - Daily Childcare Journal, S...   \n",
       "13  Baby Tracker&reg; - Daily Childcare Journal, S...   \n",
       "14     Nature's Lullabies First Year Sticker Calendar   \n",
       "15     Nature's Lullabies First Year Sticker Calendar   \n",
       "16     Nature's Lullabies First Year Sticker Calendar   \n",
       "17    Nature's Lullabies Second Year Sticker Calendar   \n",
       "18    Nature's Lullabies Second Year Sticker Calendar   \n",
       "19    Nature's Lullabies Second Year Sticker Calendar   \n",
       "20    Nature's Lullabies Second Year Sticker Calendar   \n",
       "21    Nature's Lullabies Second Year Sticker Calendar   \n",
       "22    Nature's Lullabies Second Year Sticker Calendar   \n",
       "23    Nature's Lullabies Second Year Sticker Calendar   \n",
       "24    Nature's Lullabies Second Year Sticker Calendar   \n",
       "25    Nature's Lullabies Second Year Sticker Calendar   \n",
       "26                       Baby's First Journal - Green   \n",
       "27                        Lamaze Peekaboo, I Love You   \n",
       "28                        Lamaze Peekaboo, I Love You   \n",
       "29                        Lamaze Peekaboo, I Love You   \n",
       "\n",
       "                                               review  rating  \n",
       "0   These flannel wipes are OK, but in my opinion ...       3  \n",
       "1   it came early and was not disappointed. i love...       5  \n",
       "2   Very soft and comfortable and warmer than it l...       5  \n",
       "3   This is a product well worth the purchase.  I ...       5  \n",
       "4   All of my kids have cried non-stop when I trie...       5  \n",
       "5   When the Binky Fairy came to our house, we did...       5  \n",
       "6   Lovely book, it's bound tightly so you may not...       4  \n",
       "7   Perfect for new parents. We were able to keep ...       5  \n",
       "8   A friend of mine pinned this product on Pinter...       5  \n",
       "9   This has been an easy way for my nanny to reco...       4  \n",
       "10  I love this journal and our nanny uses it ever...       4  \n",
       "11  This book is perfect!  I'm a first time new mo...       5  \n",
       "12  I originally just gave the nanny a pad of pape...       4  \n",
       "13  I thought keeping a simple handwritten journal...       3  \n",
       "14  Space for monthly photos, info and a lot of us...       5  \n",
       "15  I bought this calender for myself for my secon...       4  \n",
       "16  I love this little calender, you can keep trac...       5  \n",
       "17  This was the only calender I could find for th...       5  \n",
       "18  I completed a calendar for my son's first year...       4  \n",
       "19  We wanted to get something to keep track of ou...       5  \n",
       "20  I had a hard time finding a second year calend...       5  \n",
       "21  I only purchased a second-year calendar for my...       2  \n",
       "22  I LOVE this calendar for recording events of m...       5  \n",
       "23  Calendar is exactly as described, but I find t...       3  \n",
       "24  Wife loves this calender. Comes with a lot of ...       5  \n",
       "25  My daughter had her 1st baby over a year ago. ...       5  \n",
       "26  Extremely useful! As a new mom, tired and inex...       5  \n",
       "27  My son loves peek a boo at this age of 9 month...       3  \n",
       "28  One of baby's first and favorite books, and it...       4  \n",
       "29  I like how the book has a hook to attach it to...       5  "
      ]
     },
     "execution_count": 1,
     "metadata": {},
     "output_type": "execute_result"
    }
   ],
   "source": [
    "import pandas as pd\n",
    "import numpy as np\n",
    "import matplotlib.pyplot as plt\n",
    "import string\n",
    "from sklearn.linear_model import LogisticRegression\n",
    "from sklearn.feature_extraction.text import CountVectorizer\n",
    "import os\n",
    "\n",
    "def remove_punctuation(text):\n",
    "    import string\n",
    "    translator = str.maketrans('', '', string.punctuation)\n",
    "    return text.translate(translator)\n",
    "\n",
    "baby_df = pd.read_csv('amazon_baby.csv')\n",
    "baby_df.head(30)"
   ]
  },
  {
   "cell_type": "markdown",
   "metadata": {},
   "source": [
    "## Exercise 1 (data preparation)\n",
    "a) Remove punctuation from reviews using the given function.   \n",
    "b) Replace all missing (nan) revies with empty \"\" string.  \n",
    "c) Drop all the entries with rating = 3, as they have neutral sentiment.   \n",
    "d) Set all positive ($\\geq$4) ratings to 1 and negative($\\leq$2) to -1."
   ]
  },
  {
   "cell_type": "code",
   "execution_count": 2,
   "metadata": {},
   "outputs": [
    {
     "name": "stdout",
     "output_type": "stream",
     "text": [
      "\n"
     ]
    }
   ],
   "source": [
    "#b)\n",
    "baby_df[\"review\"].replace(np.nan, \"\", inplace=True)\n",
    "#short test:\n",
    "baby_df[\"review\"][38] == baby_df[\"review\"][38]\n",
    "print(baby_df[\"review\"][38])"
   ]
  },
  {
   "cell_type": "markdown",
   "metadata": {},
   "source": [
    "> Note: To begin with, to remove all nan data, we use a function that replaces one sentence with another. This function is 'replace', and we replace everything that is nan with empty space."
   ]
  },
  {
   "cell_type": "code",
   "execution_count": 3,
   "metadata": {},
   "outputs": [],
   "source": [
    "baby_df['review']=baby_df['review'].astype(str) "
   ]
  },
  {
   "cell_type": "code",
   "execution_count": 4,
   "metadata": {},
   "outputs": [
    {
     "data": {
      "text/plain": [
       "True"
      ]
     },
     "execution_count": 4,
     "metadata": {},
     "output_type": "execute_result"
    }
   ],
   "source": [
    "#a)\n",
    "baby_df[\"review\"] = baby_df[\"review\"].apply(remove_punctuation)\n",
    "#short test: \n",
    "baby_df[\"review\"][4] == 'All of my kids have cried nonstop when I tried to ween them off their pacifier until I found Thumbuddy To Loves Binky Fairy Puppet  It is an easy way to work with your kids to allow them to understand where their pacifier is going and help them part from itThis is a must buy book and a great gift for expecting parents  You will save them soo many headachesThanks for this book  You all rock'\n",
    "remove_punctuation(baby_df[\"review\"][4]) == 'All of my kids have cried nonstop when I tried to ween them off their pacifier until I found Thumbuddy To Loves Binky Fairy Puppet  It is an easy way to work with your kids to allow them to understand where their pacifier is going and help them part from itThis is a must buy book and a great gift for expecting parents  You will save them soo many headachesThanks for this book  You all rock'"
   ]
  },
  {
   "cell_type": "markdown",
   "metadata": {},
   "source": [
    "> Note: Then, after converting all reviews to text type, we use the given function which removes all punctuation marks. we use the option offered by the pandas package - 'apply'"
   ]
  },
  {
   "cell_type": "code",
   "execution_count": 5,
   "metadata": {},
   "outputs": [],
   "source": [
    "#c)\n",
    "a = 0\n",
    "for x in baby_df[\"rating\"]:\n",
    "    \n",
    "    if x == 3:\n",
    "        baby_df.drop(index = a, inplace = True, axis=0)\n",
    "        a=a+1\n",
    "    else:\n",
    "        a=a+1\n",
    "        continue\n",
    "#short test:\n",
    "    sum(baby_df[\"rating\"] == 3)"
   ]
  },
  {
   "cell_type": "markdown",
   "metadata": {},
   "source": [
    "> Note: The next step is to remove the lines rated 3. To do this, we search the file for such lines and remove them using the usual for loop and the drop function"
   ]
  },
  {
   "cell_type": "code",
   "execution_count": 6,
   "metadata": {},
   "outputs": [],
   "source": [
    "#d)\n",
    "baby_df[\"rating\"].replace(1,-1, inplace = True)"
   ]
  },
  {
   "cell_type": "code",
   "execution_count": 7,
   "metadata": {},
   "outputs": [],
   "source": [
    "baby_df[\"rating\"].replace(4,1, inplace = True)"
   ]
  },
  {
   "cell_type": "code",
   "execution_count": 8,
   "metadata": {},
   "outputs": [],
   "source": [
    "baby_df[\"rating\"].replace(5,1, inplace = True)"
   ]
  },
  {
   "cell_type": "code",
   "execution_count": 9,
   "metadata": {},
   "outputs": [],
   "source": [
    "baby_df[\"rating\"].replace(2,-1, inplace = True)"
   ]
  },
  {
   "cell_type": "code",
   "execution_count": 10,
   "metadata": {},
   "outputs": [
    {
     "data": {
      "text/plain": [
       "0"
      ]
     },
     "execution_count": 10,
     "metadata": {},
     "output_type": "execute_result"
    }
   ],
   "source": [
    "#test\n",
    "baby_df.head(30)\n",
    "sum(baby_df[\"rating\"]**2 != 1)"
   ]
  },
  {
   "cell_type": "markdown",
   "metadata": {},
   "source": [
    "> Note: At the end of this task, we need to convert all scores above 3 to 1 and below 3 to -1. we do this with the 'replace' function we've used before, but this time we're replacing the numbers."
   ]
  },
  {
   "cell_type": "markdown",
   "metadata": {},
   "source": [
    "## Exercise 2 \n",
    "a) Split dataset into training and test sets.     \n",
    "b) Transform reviews into vectors using CountVectorizer. "
   ]
  },
  {
   "cell_type": "code",
   "execution_count": 11,
   "metadata": {},
   "outputs": [],
   "source": [
    "from sklearn.model_selection import train_test_split\n",
    "#a)\n",
    "train, test = train_test_split(baby_df, train_size=0.8, test_size=0.2)\n"
   ]
  },
  {
   "cell_type": "code",
   "execution_count": 12,
   "metadata": {},
   "outputs": [],
   "source": [
    "#b)\n",
    "vectorizer = CountVectorizer()\n",
    "\n",
    "x = vectorizer.fit_transform(list(train[\"review\"]))\n",
    "y = train[\"rating\"]\n",
    "x_test = vectorizer.transform(list(test[\"review\"]))\n",
    "y_test = test[\"rating\"]\n"
   ]
  },
  {
   "cell_type": "markdown",
   "metadata": {},
   "source": [
    "> Note: In the next task, we divide the data into test and training ones, and then we transform the words contained in the reviews into arrays of numbers (vectors). This will allow us, in a way, to teach the program to recognize certain properties of words by means of numbers"
   ]
  },
  {
   "cell_type": "markdown",
   "metadata": {},
   "source": [
    "## Exercise 3 \n",
    "a) Train LogisticRegression model on training data (reviews processed with CountVectorizer, ratings as they were).   \n",
    "b) Print 10 most positive and 10 most negative words."
   ]
  },
  {
   "cell_type": "code",
   "execution_count": 13,
   "metadata": {},
   "outputs": [
    {
     "name": "stderr",
     "output_type": "stream",
     "text": [
      "E:\\ProgramData\\Anaconda3\\lib\\site-packages\\sklearn\\linear_model\\_logistic.py:814: ConvergenceWarning: lbfgs failed to converge (status=1):\n",
      "STOP: TOTAL NO. of ITERATIONS REACHED LIMIT.\n",
      "\n",
      "Increase the number of iterations (max_iter) or scale the data as shown in:\n",
      "    https://scikit-learn.org/stable/modules/preprocessing.html\n",
      "Please also refer to the documentation for alternative solver options:\n",
      "    https://scikit-learn.org/stable/modules/linear_model.html#logistic-regression\n",
      "  n_iter_i = _check_optimize_result(\n"
     ]
    },
    {
     "data": {
      "text/plain": [
       "LogisticRegression(max_iter=300)"
      ]
     },
     "execution_count": 13,
     "metadata": {},
     "output_type": "execute_result"
    }
   ],
   "source": [
    "#a)\n",
    "model = LogisticRegression(max_iter=300)\n",
    "model.fit(x, y)\n"
   ]
  },
  {
   "cell_type": "code",
   "execution_count": 14,
   "metadata": {},
   "outputs": [
    {
     "name": "stdout",
     "output_type": "stream",
     "text": [
      "most positive words:  ['rich' 'ply' 'con' 'lifesaver' 'minor' 'sooner' 'outstanding' 'skeptical'\n",
      " 'thankful' 'pleasantly']\n",
      "most negative words:  ['dissapointed' 'ineffective' 'poorly' 'disappointing' 'unusable'\n",
      " 'useless' 'poor' 'worst' 'worthless' 'theory']\n"
     ]
    }
   ],
   "source": [
    "#b)\n",
    "zipped_coef = list(zip(list(range(model.coef_.shape[1])), model.coef_[0]))\n",
    "sorted_coef = sorted(zipped_coef, key= lambda v: v[1])\n",
    "sorted_coef = np.array(sorted_coef)\n",
    "sorted_coef_indexes = sorted_coef[:, 0].astype(int)\n",
    "words = np.array(vectorizer.get_feature_names_out())\n",
    "most_positive_words = words[sorted_coef_indexes[-10:]]\n",
    "most_negative_words = words[sorted_coef_indexes[:10]]\n",
    "print(\"most positive words: \", most_positive_words)\n",
    "print(\"most negative words: \", most_negative_words)\n",
    "#hint: model.coef_, vectorizer.get_feature_names()"
   ]
  },
  {
   "cell_type": "markdown",
   "metadata": {},
   "source": [
    "> Note: previously divided data, we now fit to the appropriate regression curve called logisticregression. This will allow us to teach the program to recognize negative and positive words by how these words appear in the table of numbers. The computer is taught that when the rating is -1, then the words in the review are rather negative, and it saves them."
   ]
  },
  {
   "cell_type": "markdown",
   "metadata": {},
   "source": [
    "## Exercise 4 \n",
    "a) Predict the sentiment of test data reviews.   \n",
    "b) Predict the sentiment of test data reviews in terms of probability.   \n",
    "c) Find five most positive and most negative reviews.   \n",
    "d) Calculate the accuracy of predictions."
   ]
  },
  {
   "cell_type": "code",
   "execution_count": 15,
   "metadata": {},
   "outputs": [
    {
     "data": {
      "text/plain": [
       "array([1, 1, 1, ..., 1, 1, 1], dtype=int64)"
      ]
     },
     "execution_count": 15,
     "metadata": {},
     "output_type": "execute_result"
    }
   ],
   "source": [
    "#a)\n",
    "model.predict(x_test)"
   ]
  },
  {
   "cell_type": "code",
   "execution_count": 16,
   "metadata": {},
   "outputs": [
    {
     "data": {
      "text/plain": [
       "array([[7.49919212e-04, 9.99250081e-01],\n",
       "       [1.35252100e-02, 9.86474790e-01],\n",
       "       [4.47260633e-03, 9.95527394e-01],\n",
       "       ...,\n",
       "       [1.25154005e-04, 9.99874846e-01],\n",
       "       [6.26660047e-02, 9.37333995e-01],\n",
       "       [5.59531778e-03, 9.94404682e-01]])"
      ]
     },
     "execution_count": 16,
     "metadata": {},
     "output_type": "execute_result"
    }
   ],
   "source": [
    "#b)\n",
    "probabilty = model.predict_proba(x_test)\n",
    "probabilty\n",
    "#hint: model.predict_proba()"
   ]
  },
  {
   "cell_type": "code",
   "execution_count": 17,
   "metadata": {},
   "outputs": [
    {
     "name": "stdout",
     "output_type": "stream",
     "text": [
      "most positive:  I first bought these when I again had to replace the 12 pacifiers that had gone missing My daughter had grown accustom to the feel of the hospital brand pacifiers since she spent a couple of months there after birth I came across these and bought them because they were super cute but was unsure if my daughter would like them Previously I had bought pacifiers that looked like the ones the hospital provided but were not The plastic used to make them were shiny and for whatever reason my daughter had no interest in them I later discovered that the Gum Drop pacifiers were identical to the ones provided by hospitals They have a vast variety of styles and colors likeGumDrop Pacifier FullTerm Natural Scent Orange 5 Packand Gum Drop Preemie Pacifier Vanilla Scent Green for preemies These wubbanubs were in fact made of the same material and perfect for my little one I only wished I had found them sooner since my other two children are grown I could have saved myself from trips to the crib in the middle of the night to give baby back her pacifier These pacifiers are perfect for little hands to find and grab in the middle of the night My daughter just puts her own pacifier back in her mouth I have yet to lose these unlike the gazillion other pacifiers I have purchased over the years They make a great toy for baby as well While the pacifier is in her mouth she tends to play with the plush and tag It is a somewhat meditative motion that helps to sooth her andor occupy her in her carseatstrollercrib So not only is it a pacifier and toy but it helps build motor skills There are a number of different colors animals and even textures like this oneWubbanub Plush Pacifier Toy Mango Monkey The tabby kitten is my favorite  I have noticed that it is slightly smaller than the other ones Ive purchased but my daughter loves it just the same  The pacifier itself is sewn very well to the plush however I usually cut the pacifier out after its seen some wear Just as a caution Once you stitch the the hole back you have another little toy for baby to play with unlike the plain pacifiers that you have to dump They make great gifts and additions to a shower basket I have bought many for my friends When you think of the must haves in baby gear I personally would add this to my listUpdate To wash or sterilize I place a small plastic sandwich bag around the plush to prevent it from getting wet I can then wash the pacifier with warm water and antibacterial soap or clean with a baby safe sterilizer  Then I just take a sterile wipe or even a baby wipe to gently rub the plush doll  It has worked well for me and keeps babys gear germ free\n",
      "\n",
      " most negative:  The previous reviewers laud the piece of mind this product gives  Unfortunately they are buying a perception  Medical infant monitors have never been shown to save livesThis monitor makes no such claim but is obviously appealing to parents perceptions that it can improve their childs safety or save their childs life  To paraphrase a previous reviewer no amount of money is too much for your childs safety  A false claim a product must actually improve safety for this claim to ring trueThis product can actually cause harm example mother picks up baby and is trying to breastfeed and didnt turn off monitor  Monitor shrieking baby at breast what to do  Try not to drop baby as mother lunges for monitor controls Or worse putting baby on tummy to sleep because of the false sense of security from the monitorFor real safety reduce real SIDS risk factors get prenatal care breastfeed dont smoke and put your child on its back to sleep  This product is modern snake oil parents falsely feel secure but does nothingBelow are links to the evidence for this review that INFANT APNEA MONITORS HAVE NEVER BEEN SCIENTIFICALLY PROVEN TO PROTECT INFANTS FROM SIDS and may lead to a false sense of securityHere are some articles for those of you interested in evidencebased decision making and evidence based medicineStart with JAMA Journal of the American Medical Association a 2001 article titled What Do Home Monitors Contribute to the SIDS ProblemNext is a quote from the journal CHEST the professional journal for lung specialists  Regrettably there were no randomized or controlled studies of device efficacy for a lifesaving role before monitors were made available to the public Although there have been several studies456 on monitors regarding issues such as compliance access to devices quality of life and duration of monitoring few studies have examined whether cardiorespiratory apnea monitor devices were associated with a difference in outcome compared to the unmonitored infant especially when the outcome measured was death The high death rate of infants first using the home monitor1 should have alerted researchers to question whether the use of apnea monitors alternative devices such as pulse oximeters or any device could result in improved outcomes for infants at risk In fact one important study7 on national prevalence of apnea monitor use revealed two disturbing findings a racial discrepancy for access to monitors and that lowbirthweight black infants using monitors still had an odds ratio for SIDS of 393 compared to unmonitored infants These studies raised a red flag that standard apnea monitors may not be lifesaving devices and that other risk factors such as low birth weight or race and perhaps other devices might be the focus for increased targetedprevention efforts Regardless of the paucity of evidence for efficacy home monitor use spiraled internationally in the last 35 years8 but the incidence of SIDS did not decline until public education resulted in changes to modifiable SIDS risk factors in just the last 10 to 15 years91011 The fear of sudden unexpected death in infants is understandably an emotional subject leading to a desire by parents and providers to protect infants at risk with the unfortunate result of a possible false sense of security offered by a device designed to detect limited types of events Apnea monitors are now frequently prescribed for home use in infants and in children for various reasons14 reflecting a lack of understanding about what the devices are designed to do and what the device limitations areBelow are the more references on the research about SIDS including possible causes and that infant apnea monitors have never been found to be effective preventing infant death1Poets CF Southall DP Sudden infant death syndrome and apparent lifethreatening events In Taussig LM Landau LI eds Pediatric Respiratory Medicine St Louis Mo Mosby 1999107811032Willinger M Hoffman HJ Hartford RB Infant sleep position and risk for sudden infant death syndrome report of meeting held January 13 and 14 1994 National Institutes of Health Bethesda MD Pediatrics 199493814819 Free Full Text3Malloy MH Freeman DH Birth weight and gestational agespecific sudden infant death syndrome mortality United States 1991 versus 1995 Pediatrics 200010512271231 Free Full Text4Vermont Oxford Network 1999 database summary Available at  Verified March 27 20015Lemons JA Bauer CR Oh W et al for the NICHD Neonatal Research Network Very low birth weight outcomes of the National Institute of Child Health and Human Development Neonatal Research Network January 1995 Through December 1996 Pediatrics 2001107E16Ramanathan R Corwin MJ Hunt CE et al Cardiorespiratory events recorded on home monitors comparison of healthy infants with those at increased risk for SIDS JAMA 200128521992207 Free Full Text7Hunt CE Corwin MJ Lister G et al for the Collaborative Home Infant Monitoring Evaluation CHIME Study Group Longitudinal assessment of hemoglobin oxygen saturation in healthy infants during the first 6 months of age J Pediatr 1999135580586 CrossRefMedline8Kemp JS Unger B Wilkins D et al Unsafe sleep practices and an analysis of bedsharing among infants dying suddenly and unexpectedly results of a fouryear populationbased deathscene investigation study of sudden infant death syndrome and related deaths Pediatrics 2000106E419Thogmartin JR Siebert CF Jr Pellan WA Sleep position and bedsharing in sudden infant deaths an examination of autopsy findings J Pediatr 2001138212217 CrossRefMedline10Skadberg BT Morild I Markestad T Abandoning prone sleeping effect on the risk of sudden infant death syndrome J Pediatr 1998132340343 CrossRefMedline11Boles RG Buck EA Blitzer MG et al Retrospective biochemical screening of fatty acid oxidation disorders in postmortem livers of 418 cases of sudden death in the first year of life J Pediatr 1998132924933 CrossRefMedline12Gold Y Goldberg A Sivan Y Hyperreleasability of mast cells in family members of infants with sudden infant death syndrome and apparent lifethreatening events J Pediatr 2000136460465 CrossRefMedline13Summers AM Summers CW Drucker DB Hajeer AH Barson A Hutchinson II Association of IL10 genotype with sudden infant death syndrome Hum Immunol 20006112701273 CrossRefMedline14Zupancic JA Triedman JK Alexander M Walsh EP Richardson DK Berul CI Costeffectiveness and implications of newborn screening for prolongation of QT interval for the prevention of sudden infant death syndrome J Pediatr 2000136481489 CrossRefMedline15Kerr JR AlKhattaf A Barson AJ Burnie JP An association between sudden infant death syndrome SIDS and Helicobacter pylori infection Arch Dis Child 200083429434 Free Full Text16American Academy of Pediatrics Distinguishing sudden infant death syndrome from child abuse fatalities Pediatrics 2001107437441 Free Full Text17Cote A Russo P Michaud J Sudden unexpected deaths in infancy what are the causes J Pediatr 1999135437443 CrossRefMedline\n"
     ]
    }
   ],
   "source": [
    "#c) \n",
    "print(\"most positive: \", test.iloc[probabilty.T[1].argmax()][\"review\"])\n",
    "print(\"\\n most negative: \", test.iloc[probabilty.T[0].argmax()][\"review\"])\n",
    "#hint: use the results of b)"
   ]
  },
  {
   "cell_type": "code",
   "execution_count": 18,
   "metadata": {},
   "outputs": [
    {
     "data": {
      "text/plain": [
       "0.9291775359059699"
      ]
     },
     "execution_count": 18,
     "metadata": {},
     "output_type": "execute_result"
    }
   ],
   "source": [
    "#d) \n",
    "model.score(x_test, y_test)"
   ]
  },
  {
   "cell_type": "markdown",
   "metadata": {},
   "source": [
    "> Note: Based on the activities in task 4, we now look for the opinion with the most positive words, and vice versa, the most negative words. at the end we see how accurate our wiring is. It is very good because it is as much as 93%"
   ]
  },
  {
   "cell_type": "markdown",
   "metadata": {},
   "source": [
    "## Exercise 5\n",
    "In this exercise we will limit the dictionary of CountVectorizer to the set of significant words, defined below.\n",
    "\n",
    "\n",
    "a) Redo exercises 2-5 using limited dictionary.   \n",
    "b) Check the impact of all the words from the dictionary.   \n",
    "c) Compare accuracy of predictions and the time of evaluation."
   ]
  },
  {
   "cell_type": "code",
   "execution_count": 19,
   "metadata": {},
   "outputs": [],
   "source": [
    "significant_words = ['love','great','easy','old','little','perfect','loves','well','able','car','broke','less','even','waste','disappointed','work','product','money','would','return']"
   ]
  },
  {
   "cell_type": "code",
   "execution_count": 20,
   "metadata": {},
   "outputs": [],
   "source": [
    "#a)\n",
    "vectorizer_small = CountVectorizer(vocabulary=significant_words)\n",
    "\n",
    "x_small = vectorizer_small.fit_transform(list(train[\"review\"]))\n",
    "y_small = train[\"rating\"]\n",
    "x_test_small = vectorizer_small.transform(list(test[\"review\"]))\n",
    "y_test_small = test[\"rating\"]"
   ]
  },
  {
   "cell_type": "code",
   "execution_count": 21,
   "metadata": {},
   "outputs": [
    {
     "name": "stdout",
     "output_type": "stream",
     "text": [
      "most positive:  We bought this stroller about 2 weeks ago I absolutely love it I have a 3 year old and a 5 month old They both fit in the stroller great My 3 yr old was so excited about this stroller He loves the color blue the canopies the UV shade everything He is looking forward to using the boot this winter I love love love the big basket Yes there is a bar across it However I am able to get a backpack in over the bar To take it out we just unsnap the back of the basket and pull the backpack under the bar It really is easy The stroller steers well I have not noticed it pulling to one side despite the 15 pound weight difference between my boys We have not used the rain shield but the UV shade is great The canopy will cover the whole front of the stroller but the UV shade keeps the boys shady when they want to be able to look out The infant boot works well It is meant to go across the whole front but is possible to use it on just one side The harness is easy to adjust We were using the Combi Citty Savvy single It had the worst harness adjusters The Maclaren Techno uses the same crappy adjusters On the Tango you just slide the clip up or down It is simple and it stays put The harness fits both of my boys The seats recline nicely the canopies are huge The stroller is easy to steer and the handle is comfortable I have done a little onehanded steering but that is not easy It is a double stroller after all The Tango is a great looking stroller I have read reviews in which people talked about wanting a stroller that looked good I thought that was silly However we have gotten so many comments on this stroller I have to admit that it is a little flattering Silly but true Someone complained about having trouble opening the stroller It is challenging at first We finally figured out that you have to push down on the little handle on the side of the stroller You pull that handle to close it and push it to open it Once you figure that out it is super easy to open My one complaint is that the stroller is pretty large when folded I have two carseats tethered in the back of my 2004 Odyssey In order to get the stroller in I have to loosen one of the tethers first We put the stroller under the tether then tighten the tether I am able to fit bags in front of and beside the stroller but it takes up A LOT of room We are going out of town later this month and I have no idea how I am going to fit in our luggage with the stroller I am considering strapping the stroller on the roof So if a small fold is a must go with the Combi or McLaren I thought both of those were rather flimsy though The McLaren was VERY narrow and had shallow seats We decided we would just live with the large fold and get the Zooper I am SO glad we did It is well worth the money\n",
      "\n",
      "most negative:  This product is not made for babies or newborns It is entirely too big It would fit a 4 year old child When the item arrived the stitching was coming out in several areas and the quality of the material is very poor I contacted the seller to return the item and they said they would refund the item after I shipped it back to them and did not authorize a return slip You cant return the item without a return slip They want me to send it back and they will have no way of knowing whos order it is without a barcode for the return Also the seller wont pay for shipping and its 10 to ship this back to China Very poor experience and terrible product\n"
     ]
    },
    {
     "data": {
      "text/plain": [
       "0.8670504632544751"
      ]
     },
     "execution_count": 21,
     "metadata": {},
     "output_type": "execute_result"
    }
   ],
   "source": [
    "light_model = LogisticRegression()\n",
    "light_model.fit(x_small, y_small)\n",
    "proba = light_model.predict_proba(x_test_small)\n",
    "print(\"most positive: \", test.iloc[proba.T[1].argmax()][\"review\"])\n",
    "print(\"\\nmost negative: \", test.iloc[proba.T[0].argmax()][\"review\"])\n",
    "light_model.score(x_test_small, y_test_small)"
   ]
  },
  {
   "cell_type": "code",
   "execution_count": 22,
   "metadata": {},
   "outputs": [
    {
     "name": "stdout",
     "output_type": "stream",
     "text": [
      "love: 1.3495625805122315\n",
      "great: 0.9387144639509583\n",
      "easy: 1.1842275446922652\n",
      "old: 0.07839586701700721\n",
      "little: 0.5212075526323097\n",
      "perfect: 1.5138503554513434\n",
      "loves: 1.7854747052388047\n",
      "well: 0.4963028986811944\n",
      "able: 0.22589032656236202\n",
      "car: 0.07197473588396562\n",
      "broke: -1.655676975086101\n",
      "less: -0.15558502767399499\n",
      "even: -0.5270819625550935\n",
      "waste: -1.9534153318699587\n",
      "disappointed: -2.3635443637052576\n",
      "work: -0.6331892874852848\n",
      "product: -0.32720777219908836\n",
      "money: -0.9158265546095117\n",
      "would: -0.34792513859417334\n",
      "return: -2.0791370657243924\n"
     ]
    }
   ],
   "source": [
    "#b)\n",
    "for word, coef in zip(vectorizer_small.get_feature_names_out(), light_model.coef_[0]):\n",
    "    print(f\"{word}: {coef}\")"
   ]
  },
  {
   "cell_type": "markdown",
   "metadata": {},
   "source": [
    "> Note: Once again, we teach our program to recognize the right words, but using a kind of dictionary that we have given. Due to the fact that the number of words given in the list is smaller than the total number, we assume that the accuracy of the predictions will be lower. At the end, we also look at the strength or weight of a given word."
   ]
  },
  {
   "cell_type": "code",
   "execution_count": 23,
   "metadata": {},
   "outputs": [
    {
     "name": "stdout",
     "output_type": "stream",
     "text": [
      "light model achieves 0.8670504632544751\n",
      "standard model achieves 0.9291775359059699\n"
     ]
    }
   ],
   "source": [
    "#c)\n",
    "print(f\"light model achieves {light_model.score(x_test_small, y_test_small)}\")\n",
    "print(f\"standard model achieves {model.score(x_test, y_test)}\")"
   ]
  },
  {
   "cell_type": "code",
   "execution_count": 24,
   "metadata": {},
   "outputs": [],
   "source": [
    "import sys, time"
   ]
  },
  {
   "cell_type": "code",
   "execution_count": 25,
   "metadata": {},
   "outputs": [
    {
     "name": "stdout",
     "output_type": "stream",
     "text": [
      "CPU times: total: 0 ns\n",
      "Wall time: 0 ns\n"
     ]
    }
   ],
   "source": [
    "light_model.predict(x_test_small)\n",
    "%time\n"
   ]
  },
  {
   "cell_type": "code",
   "execution_count": 26,
   "metadata": {},
   "outputs": [
    {
     "name": "stdout",
     "output_type": "stream",
     "text": [
      "CPU times: total: 0 ns\n",
      "Wall time: 0 ns\n"
     ]
    }
   ],
   "source": [
    "model.predict(x_test)\n",
    "%time"
   ]
  },
  {
   "cell_type": "markdown",
   "metadata": {},
   "source": [
    "> Note: We compare the accuracy of both solutions. It turns out that in fact the method with the array given before executing the function has less accuracy, but not great. We also tried to check how fast the program executes, unfortunately this function did not work."
   ]
  }
 ],
 "metadata": {
  "anaconda-cloud": {},
  "kernelspec": {
   "display_name": "Python 3 (ipykernel)",
   "language": "python",
   "name": "python3"
  },
  "language_info": {
   "codemirror_mode": {
    "name": "ipython",
    "version": 3
   },
   "file_extension": ".py",
   "mimetype": "text/x-python",
   "name": "python",
   "nbconvert_exporter": "python",
   "pygments_lexer": "ipython3",
   "version": "3.9.12"
  },
  "toc": {
   "base_numbering": 1,
   "nav_menu": {},
   "number_sections": true,
   "sideBar": true,
   "skip_h1_title": false,
   "title_cell": "Table of Contents",
   "title_sidebar": "Contents",
   "toc_cell": false,
   "toc_position": {
    "height": "calc(100% - 180px)",
    "left": "10px",
    "top": "150px",
    "width": "384px"
   },
   "toc_section_display": true,
   "toc_window_display": true
  }
 },
 "nbformat": 4,
 "nbformat_minor": 4
}
